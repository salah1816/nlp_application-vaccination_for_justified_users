{
 "cells": [
  {
   "cell_type": "markdown",
   "id": "2ca0d19a",
   "metadata": {},
   "source": [
    "# Steps to follow:\n",
    "\n",
    "1- clean the dataset\n",
    "\n",
    "2- Analysing all the null,Nan, missing values in the dataset\n",
    "\n",
    "3- Preprocess the dataset removing the null values\n",
    "\n",
    "4- visualize the data and again peprocess the dataset into an umbaised dataset\n",
    "\n",
    "5- select the input and required output into a dataframe\n",
    "\n",
    "6- Platform data visualization\n",
    "\n",
    "7- convert all the objects types into integer types\n",
    "\n",
    "8- split the train and test data to fit the model\n",
    "\n",
    "9- create a model\n",
    "\n",
    "10- Use NLP to preprocess the provided texts\n",
    "\n",
    "11- predict the verification of the user"
   ]
  },
  {
   "cell_type": "code",
   "execution_count": 1,
   "id": "d32b0326",
   "metadata": {},
   "outputs": [
    {
     "name": "stderr",
     "output_type": "stream",
     "text": [
      "C:\\Users\\DELL\\anaconda3\\envs\\tensorflow\\lib\\site-packages\\requests\\__init__.py:102: RequestsDependencyWarning: urllib3 (1.26.8) or chardet (5.0.0)/charset_normalizer (2.0.4) doesn't match a supported version!\n",
      "  warnings.warn(\"urllib3 ({}) or chardet ({})/charset_normalizer ({}) doesn't match a supported \"\n"
     ]
    }
   ],
   "source": [
    "import spacy\n",
    "import en_core_web_sm\n",
    "import pandas as pd\n",
    "import seaborn as sns\n",
    "import numpy as np\n",
    "import matplotlib.pyplot as plt\n",
    "import re\n",
    "nlp = spacy.load('en_core_web_sm')"
   ]
  },
  {
   "cell_type": "code",
   "execution_count": 2,
   "id": "76cbb7d4",
   "metadata": {},
   "outputs": [
    {
     "data": {
      "text/html": [
       "<div>\n",
       "<style scoped>\n",
       "    .dataframe tbody tr th:only-of-type {\n",
       "        vertical-align: middle;\n",
       "    }\n",
       "\n",
       "    .dataframe tbody tr th {\n",
       "        vertical-align: top;\n",
       "    }\n",
       "\n",
       "    .dataframe thead th {\n",
       "        text-align: right;\n",
       "    }\n",
       "</style>\n",
       "<table border=\"1\" class=\"dataframe\">\n",
       "  <thead>\n",
       "    <tr style=\"text-align: right;\">\n",
       "      <th></th>\n",
       "      <th>id</th>\n",
       "      <th>user_name</th>\n",
       "      <th>user_location</th>\n",
       "      <th>user_description</th>\n",
       "      <th>user_created</th>\n",
       "      <th>user_followers</th>\n",
       "      <th>user_friends</th>\n",
       "      <th>user_favourites</th>\n",
       "      <th>user_verified</th>\n",
       "      <th>date</th>\n",
       "      <th>text</th>\n",
       "      <th>hashtags</th>\n",
       "      <th>source</th>\n",
       "      <th>retweets</th>\n",
       "      <th>favorites</th>\n",
       "      <th>is_retweet</th>\n",
       "    </tr>\n",
       "  </thead>\n",
       "  <tbody>\n",
       "    <tr>\n",
       "      <th>0</th>\n",
       "      <td>1340539111971516416</td>\n",
       "      <td>Rachel Roh</td>\n",
       "      <td>La Crescenta-Montrose, CA</td>\n",
       "      <td>Aggregator of Asian American news; scanning di...</td>\n",
       "      <td>2009-04-08 17:52:46</td>\n",
       "      <td>405</td>\n",
       "      <td>1692</td>\n",
       "      <td>3247</td>\n",
       "      <td>False</td>\n",
       "      <td>2020-12-20 06:06:44</td>\n",
       "      <td>Same folks said daikon paste could treat a cyt...</td>\n",
       "      <td>['PfizerBioNTech']</td>\n",
       "      <td>Twitter for Android</td>\n",
       "      <td>0</td>\n",
       "      <td>0</td>\n",
       "      <td>False</td>\n",
       "    </tr>\n",
       "    <tr>\n",
       "      <th>1</th>\n",
       "      <td>1338158543359250433</td>\n",
       "      <td>Albert Fong</td>\n",
       "      <td>San Francisco, CA</td>\n",
       "      <td>Marketing dude, tech geek, heavy metal &amp; '80s ...</td>\n",
       "      <td>2009-09-21 15:27:30</td>\n",
       "      <td>834</td>\n",
       "      <td>666</td>\n",
       "      <td>178</td>\n",
       "      <td>False</td>\n",
       "      <td>2020-12-13 16:27:13</td>\n",
       "      <td>While the world has been on the wrong side of ...</td>\n",
       "      <td>NaN</td>\n",
       "      <td>Twitter Web App</td>\n",
       "      <td>1</td>\n",
       "      <td>1</td>\n",
       "      <td>False</td>\n",
       "    </tr>\n",
       "    <tr>\n",
       "      <th>2</th>\n",
       "      <td>1337858199140118533</td>\n",
       "      <td>eli🇱🇹🇪🇺👌</td>\n",
       "      <td>Your Bed</td>\n",
       "      <td>heil, hydra 🖐☺</td>\n",
       "      <td>2020-06-25 23:30:28</td>\n",
       "      <td>10</td>\n",
       "      <td>88</td>\n",
       "      <td>155</td>\n",
       "      <td>False</td>\n",
       "      <td>2020-12-12 20:33:45</td>\n",
       "      <td>#coronavirus #SputnikV #AstraZeneca #PfizerBio...</td>\n",
       "      <td>['coronavirus', 'SputnikV', 'AstraZeneca', 'Pf...</td>\n",
       "      <td>Twitter for Android</td>\n",
       "      <td>0</td>\n",
       "      <td>0</td>\n",
       "      <td>False</td>\n",
       "    </tr>\n",
       "    <tr>\n",
       "      <th>3</th>\n",
       "      <td>1337855739918835717</td>\n",
       "      <td>Charles Adler</td>\n",
       "      <td>Vancouver, BC - Canada</td>\n",
       "      <td>Hosting \"CharlesAdlerTonight\" Global News Radi...</td>\n",
       "      <td>2008-09-10 11:28:53</td>\n",
       "      <td>49165</td>\n",
       "      <td>3933</td>\n",
       "      <td>21853</td>\n",
       "      <td>True</td>\n",
       "      <td>2020-12-12 20:23:59</td>\n",
       "      <td>Facts are immutable, Senator, even when you're...</td>\n",
       "      <td>NaN</td>\n",
       "      <td>Twitter Web App</td>\n",
       "      <td>446</td>\n",
       "      <td>2129</td>\n",
       "      <td>False</td>\n",
       "    </tr>\n",
       "    <tr>\n",
       "      <th>4</th>\n",
       "      <td>1337854064604966912</td>\n",
       "      <td>Citizen News Channel</td>\n",
       "      <td>NaN</td>\n",
       "      <td>Citizen News Channel bringing you an alternati...</td>\n",
       "      <td>2020-04-23 17:58:42</td>\n",
       "      <td>152</td>\n",
       "      <td>580</td>\n",
       "      <td>1473</td>\n",
       "      <td>False</td>\n",
       "      <td>2020-12-12 20:17:19</td>\n",
       "      <td>Explain to me again why we need a vaccine @Bor...</td>\n",
       "      <td>['whereareallthesickpeople', 'PfizerBioNTech']</td>\n",
       "      <td>Twitter for iPhone</td>\n",
       "      <td>0</td>\n",
       "      <td>0</td>\n",
       "      <td>False</td>\n",
       "    </tr>\n",
       "  </tbody>\n",
       "</table>\n",
       "</div>"
      ],
      "text/plain": [
       "                    id             user_name              user_location  \\\n",
       "0  1340539111971516416            Rachel Roh  La Crescenta-Montrose, CA   \n",
       "1  1338158543359250433           Albert Fong          San Francisco, CA   \n",
       "2  1337858199140118533              eli🇱🇹🇪🇺👌                   Your Bed   \n",
       "3  1337855739918835717         Charles Adler     Vancouver, BC - Canada   \n",
       "4  1337854064604966912  Citizen News Channel                        NaN   \n",
       "\n",
       "                                    user_description         user_created  \\\n",
       "0  Aggregator of Asian American news; scanning di...  2009-04-08 17:52:46   \n",
       "1  Marketing dude, tech geek, heavy metal & '80s ...  2009-09-21 15:27:30   \n",
       "2                                     heil, hydra 🖐☺  2020-06-25 23:30:28   \n",
       "3  Hosting \"CharlesAdlerTonight\" Global News Radi...  2008-09-10 11:28:53   \n",
       "4  Citizen News Channel bringing you an alternati...  2020-04-23 17:58:42   \n",
       "\n",
       "   user_followers  user_friends  user_favourites  user_verified  \\\n",
       "0             405          1692             3247          False   \n",
       "1             834           666              178          False   \n",
       "2              10            88              155          False   \n",
       "3           49165          3933            21853           True   \n",
       "4             152           580             1473          False   \n",
       "\n",
       "                  date                                               text  \\\n",
       "0  2020-12-20 06:06:44  Same folks said daikon paste could treat a cyt...   \n",
       "1  2020-12-13 16:27:13  While the world has been on the wrong side of ...   \n",
       "2  2020-12-12 20:33:45  #coronavirus #SputnikV #AstraZeneca #PfizerBio...   \n",
       "3  2020-12-12 20:23:59  Facts are immutable, Senator, even when you're...   \n",
       "4  2020-12-12 20:17:19  Explain to me again why we need a vaccine @Bor...   \n",
       "\n",
       "                                            hashtags               source  \\\n",
       "0                                 ['PfizerBioNTech']  Twitter for Android   \n",
       "1                                                NaN      Twitter Web App   \n",
       "2  ['coronavirus', 'SputnikV', 'AstraZeneca', 'Pf...  Twitter for Android   \n",
       "3                                                NaN      Twitter Web App   \n",
       "4     ['whereareallthesickpeople', 'PfizerBioNTech']   Twitter for iPhone   \n",
       "\n",
       "   retweets  favorites  is_retweet  \n",
       "0         0          0       False  \n",
       "1         1          1       False  \n",
       "2         0          0       False  \n",
       "3       446       2129       False  \n",
       "4         0          0       False  "
      ]
     },
     "execution_count": 2,
     "metadata": {},
     "output_type": "execute_result"
    }
   ],
   "source": [
    "data = pd.read_csv(\"vaccination_tweets.csv\")\n",
    "data.head()"
   ]
  },
  {
   "cell_type": "code",
   "execution_count": 4,
   "id": "43c0f99d",
   "metadata": {},
   "outputs": [
    {
     "data": {
      "text/plain": [
       "(2518, 16)"
      ]
     },
     "execution_count": 4,
     "metadata": {},
     "output_type": "execute_result"
    }
   ],
   "source": [
    "data.shape"
   ]
  },
  {
   "cell_type": "code",
   "execution_count": 16,
   "id": "7d148dda",
   "metadata": {},
   "outputs": [
    {
     "data": {
      "text/html": [
       "<div>\n",
       "<style scoped>\n",
       "    .dataframe tbody tr th:only-of-type {\n",
       "        vertical-align: middle;\n",
       "    }\n",
       "\n",
       "    .dataframe tbody tr th {\n",
       "        vertical-align: top;\n",
       "    }\n",
       "\n",
       "    .dataframe thead th {\n",
       "        text-align: right;\n",
       "    }\n",
       "</style>\n",
       "<table border=\"1\" class=\"dataframe\">\n",
       "  <thead>\n",
       "    <tr style=\"text-align: right;\">\n",
       "      <th></th>\n",
       "      <th>id</th>\n",
       "      <th>user_name</th>\n",
       "      <th>user_location</th>\n",
       "      <th>user_description</th>\n",
       "      <th>user_created</th>\n",
       "      <th>user_followers</th>\n",
       "      <th>user_friends</th>\n",
       "      <th>user_favourites</th>\n",
       "      <th>user_verified</th>\n",
       "      <th>date</th>\n",
       "      <th>text</th>\n",
       "      <th>hashtags</th>\n",
       "      <th>source</th>\n",
       "      <th>retweets</th>\n",
       "      <th>favorites</th>\n",
       "      <th>is_retweet</th>\n",
       "    </tr>\n",
       "  </thead>\n",
       "  <tbody>\n",
       "    <tr>\n",
       "      <th>3</th>\n",
       "      <td>1337855739918835717</td>\n",
       "      <td>Charles Adler</td>\n",
       "      <td>Vancouver, BC - Canada</td>\n",
       "      <td>Hosting \"CharlesAdlerTonight\" Global News Radi...</td>\n",
       "      <td>2008-09-10 11:28:53</td>\n",
       "      <td>49165</td>\n",
       "      <td>3933</td>\n",
       "      <td>21853</td>\n",
       "      <td>True</td>\n",
       "      <td>2020-12-12 20:23:59</td>\n",
       "      <td>Facts are immutable, Senator, even when you're...</td>\n",
       "      <td>NaN</td>\n",
       "      <td>Twitter Web App</td>\n",
       "      <td>446</td>\n",
       "      <td>2129</td>\n",
       "      <td>False</td>\n",
       "    </tr>\n",
       "    <tr>\n",
       "      <th>7</th>\n",
       "      <td>1337850832256176136</td>\n",
       "      <td>Dr.Krutika Kuppalli</td>\n",
       "      <td>NaN</td>\n",
       "      <td>ID, Global Health, VHF, Pandemic Prep, Emergin...</td>\n",
       "      <td>2019-03-25 04:14:29</td>\n",
       "      <td>21924</td>\n",
       "      <td>593</td>\n",
       "      <td>7815</td>\n",
       "      <td>True</td>\n",
       "      <td>2020-12-12 20:04:29</td>\n",
       "      <td>There have not been many bright days in 2020 b...</td>\n",
       "      <td>['BidenHarris', 'Election2020']</td>\n",
       "      <td>Twitter for iPhone</td>\n",
       "      <td>2</td>\n",
       "      <td>22</td>\n",
       "      <td>False</td>\n",
       "    </tr>\n",
       "    <tr>\n",
       "      <th>12</th>\n",
       "      <td>1337815730486702087</td>\n",
       "      <td>WION</td>\n",
       "      <td>India</td>\n",
       "      <td>#WION: World Is One | Welcome to India’s first...</td>\n",
       "      <td>2016-03-21 03:44:54</td>\n",
       "      <td>292510</td>\n",
       "      <td>91</td>\n",
       "      <td>7531</td>\n",
       "      <td>True</td>\n",
       "      <td>2020-12-12 17:45:00</td>\n",
       "      <td>The agency also released new information for h...</td>\n",
       "      <td>NaN</td>\n",
       "      <td>TweetDeck</td>\n",
       "      <td>0</td>\n",
       "      <td>18</td>\n",
       "      <td>False</td>\n",
       "    </tr>\n",
       "    <tr>\n",
       "      <th>13</th>\n",
       "      <td>1337809196453081088</td>\n",
       "      <td>Dr.Krutika Kuppalli</td>\n",
       "      <td>NaN</td>\n",
       "      <td>ID, Global Health, VHF, Pandemic Prep, Emergin...</td>\n",
       "      <td>2019-03-25 04:14:29</td>\n",
       "      <td>21924</td>\n",
       "      <td>593</td>\n",
       "      <td>7815</td>\n",
       "      <td>True</td>\n",
       "      <td>2020-12-12 17:19:02</td>\n",
       "      <td>For all the women and healthcare providers who...</td>\n",
       "      <td>['PfizerBioNTech']</td>\n",
       "      <td>Twitter for iPhone</td>\n",
       "      <td>48</td>\n",
       "      <td>82</td>\n",
       "      <td>False</td>\n",
       "    </tr>\n",
       "    <tr>\n",
       "      <th>15</th>\n",
       "      <td>1337789467038523394</td>\n",
       "      <td>City A.M.</td>\n",
       "      <td>London, England</td>\n",
       "      <td>London's business newspaper - News, Opinion, a...</td>\n",
       "      <td>2009-06-09 13:53:06</td>\n",
       "      <td>66224</td>\n",
       "      <td>603</td>\n",
       "      <td>771</td>\n",
       "      <td>True</td>\n",
       "      <td>2020-12-12 16:00:38</td>\n",
       "      <td>Trump announces #vaccine rollout 'in less than...</td>\n",
       "      <td>['vaccine']</td>\n",
       "      <td>Twitter for iPhone</td>\n",
       "      <td>0</td>\n",
       "      <td>1</td>\n",
       "      <td>False</td>\n",
       "    </tr>\n",
       "    <tr>\n",
       "      <th>...</th>\n",
       "      <td>...</td>\n",
       "      <td>...</td>\n",
       "      <td>...</td>\n",
       "      <td>...</td>\n",
       "      <td>...</td>\n",
       "      <td>...</td>\n",
       "      <td>...</td>\n",
       "      <td>...</td>\n",
       "      <td>...</td>\n",
       "      <td>...</td>\n",
       "      <td>...</td>\n",
       "      <td>...</td>\n",
       "      <td>...</td>\n",
       "      <td>...</td>\n",
       "      <td>...</td>\n",
       "      <td>...</td>\n",
       "    </tr>\n",
       "    <tr>\n",
       "      <th>2481</th>\n",
       "      <td>1344623776923848706</td>\n",
       "      <td>Maria Graça Carvalho</td>\n",
       "      <td>Lisbon, Portugal</td>\n",
       "      <td>Member European Parliament, SAM Unit, Former P...</td>\n",
       "      <td>2009-04-11 01:08:42</td>\n",
       "      <td>3661</td>\n",
       "      <td>2074</td>\n",
       "      <td>3217</td>\n",
       "      <td>True</td>\n",
       "      <td>2020-12-31 12:37:44</td>\n",
       "      <td>The main differences between #PfizerBioNTech #...</td>\n",
       "      <td>['PfizerBioNTech', 'vaccine', 'AstraZeneca', '...</td>\n",
       "      <td>Twitter for iPhone</td>\n",
       "      <td>0</td>\n",
       "      <td>0</td>\n",
       "      <td>False</td>\n",
       "    </tr>\n",
       "    <tr>\n",
       "      <th>2504</th>\n",
       "      <td>1344499723990921216</td>\n",
       "      <td>حسن سجواني 🇦🇪 Hassan Sajwani</td>\n",
       "      <td>Dubai, United Arab Emirates</td>\n",
       "      <td>Hassan Sajwani an #Emirati tweets #news #tech ...</td>\n",
       "      <td>2011-12-08 17:40:27</td>\n",
       "      <td>96276</td>\n",
       "      <td>597</td>\n",
       "      <td>32956</td>\n",
       "      <td>True</td>\n",
       "      <td>2020-12-31 04:24:48</td>\n",
       "      <td>Dubai Health Authority Director-General, H.E. ...</td>\n",
       "      <td>['PfizerBioNTech']</td>\n",
       "      <td>Twitter for iPhone</td>\n",
       "      <td>5</td>\n",
       "      <td>33</td>\n",
       "      <td>False</td>\n",
       "    </tr>\n",
       "    <tr>\n",
       "      <th>2510</th>\n",
       "      <td>1344424399341047808</td>\n",
       "      <td>Nataniel Lester-Coll, MD</td>\n",
       "      <td>Vermont, USA</td>\n",
       "      <td>Radiation Oncologist @UVMMedCenter Asst Prof @...</td>\n",
       "      <td>2014-01-14 21:31:32</td>\n",
       "      <td>3620</td>\n",
       "      <td>1732</td>\n",
       "      <td>20547</td>\n",
       "      <td>True</td>\n",
       "      <td>2020-12-30 23:25:29</td>\n",
       "      <td>🚨The #PfizerBioNTech #CovidVaccine trial is no...</td>\n",
       "      <td>['PfizerBioNTech', 'CovidVaccine', 'VaccinesWo...</td>\n",
       "      <td>Twitter for iPhone</td>\n",
       "      <td>1</td>\n",
       "      <td>5</td>\n",
       "      <td>False</td>\n",
       "    </tr>\n",
       "    <tr>\n",
       "      <th>2516</th>\n",
       "      <td>1344405690966802433</td>\n",
       "      <td>anna holligan 🎙</td>\n",
       "      <td>The Hague, The Netherlands</td>\n",
       "      <td>Foreign correspondent @bbcnews Journalist. Fil...</td>\n",
       "      <td>2009-01-17 06:58:29</td>\n",
       "      <td>24334</td>\n",
       "      <td>8337</td>\n",
       "      <td>17053</td>\n",
       "      <td>True</td>\n",
       "      <td>2020-12-30 22:11:09</td>\n",
       "      <td>People in NL tweeting me to say Dutch plan to ...</td>\n",
       "      <td>['AstraZeneca', 'PfizerBioNTech']</td>\n",
       "      <td>Twitter for iPhone</td>\n",
       "      <td>2</td>\n",
       "      <td>9</td>\n",
       "      <td>False</td>\n",
       "    </tr>\n",
       "    <tr>\n",
       "      <th>2517</th>\n",
       "      <td>1344404643661684738</td>\n",
       "      <td>Konrad Yakabuski</td>\n",
       "      <td>Montréal, Québec</td>\n",
       "      <td>Columnist/Chroniqueur @ The Globe and Mail/Le ...</td>\n",
       "      <td>2009-04-14 20:46:54</td>\n",
       "      <td>3074</td>\n",
       "      <td>325</td>\n",
       "      <td>219</td>\n",
       "      <td>True</td>\n",
       "      <td>2020-12-30 22:06:59</td>\n",
       "      <td>On #vaccines, .@realDonaldTrump  did everythin...</td>\n",
       "      <td>['vaccines', 'PfizerBioNTech', 'PfizerVaccine'...</td>\n",
       "      <td>Twitter Web App</td>\n",
       "      <td>2</td>\n",
       "      <td>4</td>\n",
       "      <td>False</td>\n",
       "    </tr>\n",
       "  </tbody>\n",
       "</table>\n",
       "<p>356 rows × 16 columns</p>\n",
       "</div>"
      ],
      "text/plain": [
       "                       id                     user_name  \\\n",
       "3     1337855739918835717                 Charles Adler   \n",
       "7     1337850832256176136           Dr.Krutika Kuppalli   \n",
       "12    1337815730486702087                          WION   \n",
       "13    1337809196453081088           Dr.Krutika Kuppalli   \n",
       "15    1337789467038523394                     City A.M.   \n",
       "...                   ...                           ...   \n",
       "2481  1344623776923848706          Maria Graça Carvalho   \n",
       "2504  1344499723990921216  حسن سجواني 🇦🇪 Hassan Sajwani   \n",
       "2510  1344424399341047808      Nataniel Lester-Coll, MD   \n",
       "2516  1344405690966802433               anna holligan 🎙   \n",
       "2517  1344404643661684738              Konrad Yakabuski   \n",
       "\n",
       "                    user_location  \\\n",
       "3          Vancouver, BC - Canada   \n",
       "7                             NaN   \n",
       "12                          India   \n",
       "13                            NaN   \n",
       "15                London, England   \n",
       "...                           ...   \n",
       "2481             Lisbon, Portugal   \n",
       "2504  Dubai, United Arab Emirates   \n",
       "2510                 Vermont, USA   \n",
       "2516   The Hague, The Netherlands   \n",
       "2517             Montréal, Québec   \n",
       "\n",
       "                                       user_description         user_created  \\\n",
       "3     Hosting \"CharlesAdlerTonight\" Global News Radi...  2008-09-10 11:28:53   \n",
       "7     ID, Global Health, VHF, Pandemic Prep, Emergin...  2019-03-25 04:14:29   \n",
       "12    #WION: World Is One | Welcome to India’s first...  2016-03-21 03:44:54   \n",
       "13    ID, Global Health, VHF, Pandemic Prep, Emergin...  2019-03-25 04:14:29   \n",
       "15    London's business newspaper - News, Opinion, a...  2009-06-09 13:53:06   \n",
       "...                                                 ...                  ...   \n",
       "2481  Member European Parliament, SAM Unit, Former P...  2009-04-11 01:08:42   \n",
       "2504  Hassan Sajwani an #Emirati tweets #news #tech ...  2011-12-08 17:40:27   \n",
       "2510  Radiation Oncologist @UVMMedCenter Asst Prof @...  2014-01-14 21:31:32   \n",
       "2516  Foreign correspondent @bbcnews Journalist. Fil...  2009-01-17 06:58:29   \n",
       "2517  Columnist/Chroniqueur @ The Globe and Mail/Le ...  2009-04-14 20:46:54   \n",
       "\n",
       "      user_followers  user_friends  user_favourites  user_verified  \\\n",
       "3              49165          3933            21853           True   \n",
       "7              21924           593             7815           True   \n",
       "12            292510            91             7531           True   \n",
       "13             21924           593             7815           True   \n",
       "15             66224           603              771           True   \n",
       "...              ...           ...              ...            ...   \n",
       "2481            3661          2074             3217           True   \n",
       "2504           96276           597            32956           True   \n",
       "2510            3620          1732            20547           True   \n",
       "2516           24334          8337            17053           True   \n",
       "2517            3074           325              219           True   \n",
       "\n",
       "                     date                                               text  \\\n",
       "3     2020-12-12 20:23:59  Facts are immutable, Senator, even when you're...   \n",
       "7     2020-12-12 20:04:29  There have not been many bright days in 2020 b...   \n",
       "12    2020-12-12 17:45:00  The agency also released new information for h...   \n",
       "13    2020-12-12 17:19:02  For all the women and healthcare providers who...   \n",
       "15    2020-12-12 16:00:38  Trump announces #vaccine rollout 'in less than...   \n",
       "...                   ...                                                ...   \n",
       "2481  2020-12-31 12:37:44  The main differences between #PfizerBioNTech #...   \n",
       "2504  2020-12-31 04:24:48  Dubai Health Authority Director-General, H.E. ...   \n",
       "2510  2020-12-30 23:25:29  🚨The #PfizerBioNTech #CovidVaccine trial is no...   \n",
       "2516  2020-12-30 22:11:09  People in NL tweeting me to say Dutch plan to ...   \n",
       "2517  2020-12-30 22:06:59  On #vaccines, .@realDonaldTrump  did everythin...   \n",
       "\n",
       "                                               hashtags              source  \\\n",
       "3                                                   NaN     Twitter Web App   \n",
       "7                       ['BidenHarris', 'Election2020']  Twitter for iPhone   \n",
       "12                                                  NaN           TweetDeck   \n",
       "13                                   ['PfizerBioNTech']  Twitter for iPhone   \n",
       "15                                          ['vaccine']  Twitter for iPhone   \n",
       "...                                                 ...                 ...   \n",
       "2481  ['PfizerBioNTech', 'vaccine', 'AstraZeneca', '...  Twitter for iPhone   \n",
       "2504                                 ['PfizerBioNTech']  Twitter for iPhone   \n",
       "2510  ['PfizerBioNTech', 'CovidVaccine', 'VaccinesWo...  Twitter for iPhone   \n",
       "2516                  ['AstraZeneca', 'PfizerBioNTech']  Twitter for iPhone   \n",
       "2517  ['vaccines', 'PfizerBioNTech', 'PfizerVaccine'...     Twitter Web App   \n",
       "\n",
       "      retweets  favorites  is_retweet  \n",
       "3          446       2129       False  \n",
       "7            2         22       False  \n",
       "12           0         18       False  \n",
       "13          48         82       False  \n",
       "15           0          1       False  \n",
       "...        ...        ...         ...  \n",
       "2481         0          0       False  \n",
       "2504         5         33       False  \n",
       "2510         1          5       False  \n",
       "2516         2          9       False  \n",
       "2517         2          4       False  \n",
       "\n",
       "[356 rows x 16 columns]"
      ]
     },
     "execution_count": 16,
     "metadata": {},
     "output_type": "execute_result"
    }
   ],
   "source": [
    "verified_users = data[data[\"user_verified\"]==True]\n",
    "verified_users"
   ]
  },
  {
   "cell_type": "code",
   "execution_count": 17,
   "id": "19be4d68",
   "metadata": {},
   "outputs": [
    {
     "name": "stderr",
     "output_type": "stream",
     "text": [
      "C:\\Users\\DELL\\AppData\\Local\\Temp/ipykernel_15296/937921522.py:1: UserWarning: Boolean Series key will be reindexed to match DataFrame index.\n",
      "  verified_users[data[\"hashtags\"].isnull()]\n"
     ]
    },
    {
     "data": {
      "text/html": [
       "<div>\n",
       "<style scoped>\n",
       "    .dataframe tbody tr th:only-of-type {\n",
       "        vertical-align: middle;\n",
       "    }\n",
       "\n",
       "    .dataframe tbody tr th {\n",
       "        vertical-align: top;\n",
       "    }\n",
       "\n",
       "    .dataframe thead th {\n",
       "        text-align: right;\n",
       "    }\n",
       "</style>\n",
       "<table border=\"1\" class=\"dataframe\">\n",
       "  <thead>\n",
       "    <tr style=\"text-align: right;\">\n",
       "      <th></th>\n",
       "      <th>id</th>\n",
       "      <th>user_name</th>\n",
       "      <th>user_location</th>\n",
       "      <th>user_description</th>\n",
       "      <th>user_created</th>\n",
       "      <th>user_followers</th>\n",
       "      <th>user_friends</th>\n",
       "      <th>user_favourites</th>\n",
       "      <th>user_verified</th>\n",
       "      <th>date</th>\n",
       "      <th>text</th>\n",
       "      <th>hashtags</th>\n",
       "      <th>source</th>\n",
       "      <th>retweets</th>\n",
       "      <th>favorites</th>\n",
       "      <th>is_retweet</th>\n",
       "    </tr>\n",
       "  </thead>\n",
       "  <tbody>\n",
       "    <tr>\n",
       "      <th>3</th>\n",
       "      <td>1337855739918835717</td>\n",
       "      <td>Charles Adler</td>\n",
       "      <td>Vancouver, BC - Canada</td>\n",
       "      <td>Hosting \"CharlesAdlerTonight\" Global News Radi...</td>\n",
       "      <td>2008-09-10 11:28:53</td>\n",
       "      <td>49165</td>\n",
       "      <td>3933</td>\n",
       "      <td>21853</td>\n",
       "      <td>True</td>\n",
       "      <td>2020-12-12 20:23:59</td>\n",
       "      <td>Facts are immutable, Senator, even when you're...</td>\n",
       "      <td>NaN</td>\n",
       "      <td>Twitter Web App</td>\n",
       "      <td>446</td>\n",
       "      <td>2129</td>\n",
       "      <td>False</td>\n",
       "    </tr>\n",
       "    <tr>\n",
       "      <th>12</th>\n",
       "      <td>1337815730486702087</td>\n",
       "      <td>WION</td>\n",
       "      <td>India</td>\n",
       "      <td>#WION: World Is One | Welcome to India’s first...</td>\n",
       "      <td>2016-03-21 03:44:54</td>\n",
       "      <td>292510</td>\n",
       "      <td>91</td>\n",
       "      <td>7531</td>\n",
       "      <td>True</td>\n",
       "      <td>2020-12-12 17:45:00</td>\n",
       "      <td>The agency also released new information for h...</td>\n",
       "      <td>NaN</td>\n",
       "      <td>TweetDeck</td>\n",
       "      <td>0</td>\n",
       "      <td>18</td>\n",
       "      <td>False</td>\n",
       "    </tr>\n",
       "    <tr>\n",
       "      <th>23</th>\n",
       "      <td>1337773751841144833</td>\n",
       "      <td>BOOM Live</td>\n",
       "      <td>Mumbai, India</td>\n",
       "      <td>IFCN certified fact-driven journalism. India's...</td>\n",
       "      <td>2014-03-16 03:52:50</td>\n",
       "      <td>64185</td>\n",
       "      <td>1183</td>\n",
       "      <td>1794</td>\n",
       "      <td>True</td>\n",
       "      <td>2020-12-12 14:58:11</td>\n",
       "      <td>The US Food and Drug Administration (FDA) has ...</td>\n",
       "      <td>NaN</td>\n",
       "      <td>Twitter Web App</td>\n",
       "      <td>1</td>\n",
       "      <td>5</td>\n",
       "      <td>False</td>\n",
       "    </tr>\n",
       "    <tr>\n",
       "      <th>88</th>\n",
       "      <td>1338560750571446273</td>\n",
       "      <td>KFDM News</td>\n",
       "      <td>Beaumont, Texas</td>\n",
       "      <td>Providing news our viewers have been counting ...</td>\n",
       "      <td>2009-02-09 17:40:37</td>\n",
       "      <td>20014</td>\n",
       "      <td>1127</td>\n",
       "      <td>2550</td>\n",
       "      <td>True</td>\n",
       "      <td>2020-12-14 19:05:26</td>\n",
       "      <td>KFDM’s/FOX 4’s @THEPAIGEREPORT1 is at Baptist ...</td>\n",
       "      <td>NaN</td>\n",
       "      <td>Twitter for iPhone</td>\n",
       "      <td>3</td>\n",
       "      <td>2</td>\n",
       "      <td>False</td>\n",
       "    </tr>\n",
       "    <tr>\n",
       "      <th>126</th>\n",
       "      <td>1338475597195042816</td>\n",
       "      <td>770 CHQR Global News Radio</td>\n",
       "      <td>Calgary, AB</td>\n",
       "      <td>Calgary’s Breaking News and Conversation Station.</td>\n",
       "      <td>2010-12-01 17:49:25</td>\n",
       "      <td>17025</td>\n",
       "      <td>1032</td>\n",
       "      <td>795</td>\n",
       "      <td>True</td>\n",
       "      <td>2020-12-14 13:27:04</td>\n",
       "      <td>Sunday evening’s shipment is the first of an i...</td>\n",
       "      <td>NaN</td>\n",
       "      <td>SocialFlow</td>\n",
       "      <td>0</td>\n",
       "      <td>1</td>\n",
       "      <td>False</td>\n",
       "    </tr>\n",
       "    <tr>\n",
       "      <th>...</th>\n",
       "      <td>...</td>\n",
       "      <td>...</td>\n",
       "      <td>...</td>\n",
       "      <td>...</td>\n",
       "      <td>...</td>\n",
       "      <td>...</td>\n",
       "      <td>...</td>\n",
       "      <td>...</td>\n",
       "      <td>...</td>\n",
       "      <td>...</td>\n",
       "      <td>...</td>\n",
       "      <td>...</td>\n",
       "      <td>...</td>\n",
       "      <td>...</td>\n",
       "      <td>...</td>\n",
       "      <td>...</td>\n",
       "    </tr>\n",
       "    <tr>\n",
       "      <th>2259</th>\n",
       "      <td>1345611052268937216</td>\n",
       "      <td>The Daily Star</td>\n",
       "      <td>Bangladesh</td>\n",
       "      <td>Bangladesh's largest English Daily. The latest...</td>\n",
       "      <td>2009-09-27 08:54:28</td>\n",
       "      <td>859613</td>\n",
       "      <td>82</td>\n",
       "      <td>482</td>\n",
       "      <td>True</td>\n",
       "      <td>2021-01-03 06:00:49</td>\n",
       "      <td>Mexican authorities said they are studying the...</td>\n",
       "      <td>NaN</td>\n",
       "      <td>Twitter Web App</td>\n",
       "      <td>1</td>\n",
       "      <td>17</td>\n",
       "      <td>False</td>\n",
       "    </tr>\n",
       "    <tr>\n",
       "      <th>2260</th>\n",
       "      <td>1345598506807906304</td>\n",
       "      <td>FinancialXpress</td>\n",
       "      <td>New Delhi, India</td>\n",
       "      <td>A complete up-to-date source for biz news, #fi...</td>\n",
       "      <td>2009-06-24 11:29:19</td>\n",
       "      <td>698166</td>\n",
       "      <td>28</td>\n",
       "      <td>4</td>\n",
       "      <td>True</td>\n",
       "      <td>2021-01-03 05:10:58</td>\n",
       "      <td>Mexican authorities said they are studying the...</td>\n",
       "      <td>NaN</td>\n",
       "      <td>Twitter Web App</td>\n",
       "      <td>1</td>\n",
       "      <td>8</td>\n",
       "      <td>False</td>\n",
       "    </tr>\n",
       "    <tr>\n",
       "      <th>2304</th>\n",
       "      <td>1345373680138858498</td>\n",
       "      <td>حسن سجواني 🇦🇪 Hassan Sajwani</td>\n",
       "      <td>Dubai, United Arab Emirates</td>\n",
       "      <td>Hassan Sajwani an #Emirati tweets #news #tech ...</td>\n",
       "      <td>2011-12-08 17:40:27</td>\n",
       "      <td>96276</td>\n",
       "      <td>597</td>\n",
       "      <td>32956</td>\n",
       "      <td>True</td>\n",
       "      <td>2021-01-02 14:17:35</td>\n",
       "      <td>Maj. Gen. Mohammed Al Marri, Director General ...</td>\n",
       "      <td>NaN</td>\n",
       "      <td>Twitter for iPhone</td>\n",
       "      <td>9</td>\n",
       "      <td>77</td>\n",
       "      <td>False</td>\n",
       "    </tr>\n",
       "    <tr>\n",
       "      <th>2337</th>\n",
       "      <td>1345206621572456448</td>\n",
       "      <td>Oneindia News</td>\n",
       "      <td>India</td>\n",
       "      <td>https://t.co/b2BCDYhPGV is a gamut of online r...</td>\n",
       "      <td>2008-12-16 09:44:12</td>\n",
       "      <td>64357</td>\n",
       "      <td>618</td>\n",
       "      <td>606</td>\n",
       "      <td>True</td>\n",
       "      <td>2021-01-02 03:13:45</td>\n",
       "      <td>The @WHO on Thursday granted emergency validat...</td>\n",
       "      <td>NaN</td>\n",
       "      <td>Twitter Web App</td>\n",
       "      <td>0</td>\n",
       "      <td>1</td>\n",
       "      <td>False</td>\n",
       "    </tr>\n",
       "    <tr>\n",
       "      <th>2417</th>\n",
       "      <td>1344857730465505287</td>\n",
       "      <td>editorji</td>\n",
       "      <td>Sultanpur, New Delhi</td>\n",
       "      <td>editorji is your curated short video news plat...</td>\n",
       "      <td>2017-08-13 14:29:09</td>\n",
       "      <td>32099</td>\n",
       "      <td>105</td>\n",
       "      <td>226</td>\n",
       "      <td>True</td>\n",
       "      <td>2021-01-01 04:07:23</td>\n",
       "      <td>Morning Brief | Pfizer gets WHO approval, Indi...</td>\n",
       "      <td>NaN</td>\n",
       "      <td>Twitter Web App</td>\n",
       "      <td>1</td>\n",
       "      <td>1</td>\n",
       "      <td>False</td>\n",
       "    </tr>\n",
       "  </tbody>\n",
       "</table>\n",
       "<p>66 rows × 16 columns</p>\n",
       "</div>"
      ],
      "text/plain": [
       "                       id                     user_name  \\\n",
       "3     1337855739918835717                 Charles Adler   \n",
       "12    1337815730486702087                          WION   \n",
       "23    1337773751841144833                     BOOM Live   \n",
       "88    1338560750571446273                     KFDM News   \n",
       "126   1338475597195042816    770 CHQR Global News Radio   \n",
       "...                   ...                           ...   \n",
       "2259  1345611052268937216                The Daily Star   \n",
       "2260  1345598506807906304               FinancialXpress   \n",
       "2304  1345373680138858498  حسن سجواني 🇦🇪 Hassan Sajwani   \n",
       "2337  1345206621572456448                 Oneindia News   \n",
       "2417  1344857730465505287                      editorji   \n",
       "\n",
       "                    user_location  \\\n",
       "3          Vancouver, BC - Canada   \n",
       "12                          India   \n",
       "23                  Mumbai, India   \n",
       "88                Beaumont, Texas   \n",
       "126                   Calgary, AB   \n",
       "...                           ...   \n",
       "2259                   Bangladesh   \n",
       "2260             New Delhi, India   \n",
       "2304  Dubai, United Arab Emirates   \n",
       "2337                        India   \n",
       "2417         Sultanpur, New Delhi   \n",
       "\n",
       "                                       user_description         user_created  \\\n",
       "3     Hosting \"CharlesAdlerTonight\" Global News Radi...  2008-09-10 11:28:53   \n",
       "12    #WION: World Is One | Welcome to India’s first...  2016-03-21 03:44:54   \n",
       "23    IFCN certified fact-driven journalism. India's...  2014-03-16 03:52:50   \n",
       "88    Providing news our viewers have been counting ...  2009-02-09 17:40:37   \n",
       "126   Calgary’s Breaking News and Conversation Station.  2010-12-01 17:49:25   \n",
       "...                                                 ...                  ...   \n",
       "2259  Bangladesh's largest English Daily. The latest...  2009-09-27 08:54:28   \n",
       "2260  A complete up-to-date source for biz news, #fi...  2009-06-24 11:29:19   \n",
       "2304  Hassan Sajwani an #Emirati tweets #news #tech ...  2011-12-08 17:40:27   \n",
       "2337  https://t.co/b2BCDYhPGV is a gamut of online r...  2008-12-16 09:44:12   \n",
       "2417  editorji is your curated short video news plat...  2017-08-13 14:29:09   \n",
       "\n",
       "      user_followers  user_friends  user_favourites  user_verified  \\\n",
       "3              49165          3933            21853           True   \n",
       "12            292510            91             7531           True   \n",
       "23             64185          1183             1794           True   \n",
       "88             20014          1127             2550           True   \n",
       "126            17025          1032              795           True   \n",
       "...              ...           ...              ...            ...   \n",
       "2259          859613            82              482           True   \n",
       "2260          698166            28                4           True   \n",
       "2304           96276           597            32956           True   \n",
       "2337           64357           618              606           True   \n",
       "2417           32099           105              226           True   \n",
       "\n",
       "                     date                                               text  \\\n",
       "3     2020-12-12 20:23:59  Facts are immutable, Senator, even when you're...   \n",
       "12    2020-12-12 17:45:00  The agency also released new information for h...   \n",
       "23    2020-12-12 14:58:11  The US Food and Drug Administration (FDA) has ...   \n",
       "88    2020-12-14 19:05:26  KFDM’s/FOX 4’s @THEPAIGEREPORT1 is at Baptist ...   \n",
       "126   2020-12-14 13:27:04  Sunday evening’s shipment is the first of an i...   \n",
       "...                   ...                                                ...   \n",
       "2259  2021-01-03 06:00:49  Mexican authorities said they are studying the...   \n",
       "2260  2021-01-03 05:10:58  Mexican authorities said they are studying the...   \n",
       "2304  2021-01-02 14:17:35  Maj. Gen. Mohammed Al Marri, Director General ...   \n",
       "2337  2021-01-02 03:13:45  The @WHO on Thursday granted emergency validat...   \n",
       "2417  2021-01-01 04:07:23  Morning Brief | Pfizer gets WHO approval, Indi...   \n",
       "\n",
       "     hashtags              source  retweets  favorites  is_retweet  \n",
       "3         NaN     Twitter Web App       446       2129       False  \n",
       "12        NaN           TweetDeck         0         18       False  \n",
       "23        NaN     Twitter Web App         1          5       False  \n",
       "88        NaN  Twitter for iPhone         3          2       False  \n",
       "126       NaN          SocialFlow         0          1       False  \n",
       "...       ...                 ...       ...        ...         ...  \n",
       "2259      NaN     Twitter Web App         1         17       False  \n",
       "2260      NaN     Twitter Web App         1          8       False  \n",
       "2304      NaN  Twitter for iPhone         9         77       False  \n",
       "2337      NaN     Twitter Web App         0          1       False  \n",
       "2417      NaN     Twitter Web App         1          1       False  \n",
       "\n",
       "[66 rows x 16 columns]"
      ]
     },
     "execution_count": 17,
     "metadata": {},
     "output_type": "execute_result"
    }
   ],
   "source": [
    "verified_users[data[\"hashtags\"].isnull()] "
   ]
  },
  {
   "cell_type": "code",
   "execution_count": 94,
   "id": "c89c4365",
   "metadata": {},
   "outputs": [
    {
     "data": {
      "text/plain": [
       "[str, float]"
      ]
     },
     "execution_count": 94,
     "metadata": {},
     "output_type": "execute_result"
    }
   ],
   "source": [
    "types=[]\n",
    "for i in data[\"hashtags\"]:\n",
    "    if type(i) not in types:\n",
    "        types.append(type(i))\n",
    "types"
   ]
  },
  {
   "cell_type": "code",
   "execution_count": 92,
   "id": "789ef5f4",
   "metadata": {},
   "outputs": [
    {
     "data": {
      "text/plain": [
       "2518"
      ]
     },
     "execution_count": 92,
     "metadata": {},
     "output_type": "execute_result"
    }
   ],
   "source": [
    "len(types)"
   ]
  },
  {
   "cell_type": "code",
   "execution_count": 7,
   "id": "86d1e224",
   "metadata": {},
   "outputs": [
    {
     "data": {
      "text/plain": [
       "array(['Twitter for Android', 'Twitter Web App', 'Twitter for iPhone',\n",
       "       'TweetDeck', 'Buffer', 'Twitter for iPad', 'Twitter Media Studio',\n",
       "       'ThreadReaderApp', 'Instagram', 'SocialFlow', 'Hootsuite Inc.',\n",
       "       'LinkedIn', 'Twitter for Mac', '24liveblog', 'Publer ', 'IFTTT',\n",
       "       'Socialbakers', 'Falcon Social Media Management ', 'Echobox',\n",
       "       'Microsoft Power Platform', 'Nonli', 'Sendible', nan, 'EastMojo',\n",
       "       'Twitter Media Studio - LiveCut', 'GT_Backend', 'Tweetbot for Mac'],\n",
       "      dtype=object)"
      ]
     },
     "execution_count": 7,
     "metadata": {},
     "output_type": "execute_result"
    }
   ],
   "source": [
    "data[\"source\"].unique()"
   ]
  },
  {
   "cell_type": "code",
   "execution_count": 12,
   "id": "ea9fb7f6",
   "metadata": {},
   "outputs": [
    {
     "data": {
      "text/plain": [
       "\"Facts are immutable, Senator, even when you're not ethically sturdy enough to acknowledge them. (1) You were born i… https\""
      ]
     },
     "execution_count": 12,
     "metadata": {},
     "output_type": "execute_result"
    }
   ],
   "source": [
    "re.sub(r\"https?://[A-Za-z0-9./]+\", 'https', data[\"text\"][3])"
   ]
  },
  {
   "cell_type": "code",
   "execution_count": 3,
   "id": "57241104",
   "metadata": {},
   "outputs": [
    {
     "data": {
      "text/plain": [
       "array([\"Facts are immutable, Senator, even when you're not ethically sturdy enough to acknowledge them. (1) You were born i… https://t.co/jqgV18kch4\",\n",
       "       'There have not been many bright days in 2020 but here are some of the best \\n1. #BidenHarris winning #Election2020… https://t.co/77u4f8XXfx'],\n",
       "      dtype=object)"
      ]
     },
     "execution_count": 3,
     "metadata": {},
     "output_type": "execute_result"
    }
   ],
   "source": [
    "verified_users= data[data[\"user_verified\"]==True]\n",
    "accepted_texts = verified_users[\"text\"].values\n",
    "accepted_texts[:2]"
   ]
  },
  {
   "cell_type": "code",
   "execution_count": 5,
   "id": "d36d31d4",
   "metadata": {},
   "outputs": [],
   "source": [
    "def preprocessing(sentence):\n",
    "    sentence = sentence.lower()\n",
    "    sentence = sentence.replace('.', '')\n",
    "    sentence = sentence.replace('[', '')\n",
    "    sentence = sentence.replace(']', '')\n",
    "    sentence = re.sub(r\"https?://[A-Za-z0-9./]+\", '', sentence)\n",
    "    sentence = re.sub(r\"[0-9]+\", '', sentence)\n",
    "    tokens = []\n",
    "    tokens = [token.text for token in nlp(sentence) if not (token.is_stop or token.like_num or token.is_punct or token.is_space or len(token) == 1)]\n",
    "    tokens = ' '.join([element for element in tokens])\n",
    "    \n",
    "    return tokens"
   ]
  },
  {
   "cell_type": "code",
   "execution_count": 6,
   "id": "b11e5495",
   "metadata": {},
   "outputs": [
    {
     "name": "stdout",
     "output_type": "stream",
     "text": [
      "vaccines @realdonaldtrump right pfizerbiontech pfizervaccine modernavaccine moderna\n"
     ]
    }
   ],
   "source": [
    "texts= ''\n",
    "for text in accepted_texts:\n",
    "    texts+= preprocessing(text)+' '\n",
    "\n",
    "print( preprocessing(text))\n",
    "texts = texts[:-1]"
   ]
  },
  {
   "cell_type": "code",
   "execution_count": 34,
   "id": "58f574e6",
   "metadata": {},
   "outputs": [
    {
     "data": {
      "image/png": "[encoded data removed]",
      "text/plain": [
       "<Figure size 1080x1080 with 1 Axes>"
      ]
     },
     "metadata": {
      "needs_background": "light"
     },
     "output_type": "display_data"
    }
   ],
   "source": [
    "from wordcloud import WordCloud\n",
    "import matplotlib.pyplot as plt\n",
    "cloud = WordCloud()\n",
    "cloud = cloud.generate(texts)\n",
    "plt.figure(figsize=(15,15))\n",
    "plt.imshow(cloud)\n",
    "plt.axis('off');"
   ]
  },
  {
   "cell_type": "code",
   "execution_count": 113,
   "id": "bfddb93a",
   "metadata": {},
   "outputs": [
    {
     "data": {
      "text/html": [
       "<div>\n",
       "<style scoped>\n",
       "    .dataframe tbody tr th:only-of-type {\n",
       "        vertical-align: middle;\n",
       "    }\n",
       "\n",
       "    .dataframe tbody tr th {\n",
       "        vertical-align: top;\n",
       "    }\n",
       "\n",
       "    .dataframe thead th {\n",
       "        text-align: right;\n",
       "    }\n",
       "</style>\n",
       "<table border=\"1\" class=\"dataframe\">\n",
       "  <thead>\n",
       "    <tr style=\"text-align: right;\">\n",
       "      <th></th>\n",
       "      <th>id</th>\n",
       "      <th>user_followers</th>\n",
       "      <th>user_friends</th>\n",
       "      <th>user_favourites</th>\n",
       "      <th>retweets</th>\n",
       "      <th>favorites</th>\n",
       "    </tr>\n",
       "  </thead>\n",
       "  <tbody>\n",
       "    <tr>\n",
       "      <th>count</th>\n",
       "      <td>2.518000e+03</td>\n",
       "      <td>2.518000e+03</td>\n",
       "      <td>2518.000000</td>\n",
       "      <td>2518.000000</td>\n",
       "      <td>2518.000000</td>\n",
       "      <td>2518.000000</td>\n",
       "    </tr>\n",
       "    <tr>\n",
       "      <th>mean</th>\n",
       "      <td>1.341949e+18</td>\n",
       "      <td>6.342983e+04</td>\n",
       "      <td>1170.952740</td>\n",
       "      <td>13380.415012</td>\n",
       "      <td>1.715250</td>\n",
       "      <td>10.464654</td>\n",
       "    </tr>\n",
       "    <tr>\n",
       "      <th>std</th>\n",
       "      <td>2.768504e+15</td>\n",
       "      <td>4.762127e+05</td>\n",
       "      <td>2469.263253</td>\n",
       "      <td>41706.034152</td>\n",
       "      <td>12.237077</td>\n",
       "      <td>74.644921</td>\n",
       "    </tr>\n",
       "    <tr>\n",
       "      <th>min</th>\n",
       "      <td>1.337728e+18</td>\n",
       "      <td>0.000000e+00</td>\n",
       "      <td>0.000000</td>\n",
       "      <td>0.000000</td>\n",
       "      <td>0.000000</td>\n",
       "      <td>0.000000</td>\n",
       "    </tr>\n",
       "    <tr>\n",
       "      <th>25%</th>\n",
       "      <td>1.339437e+18</td>\n",
       "      <td>1.140000e+02</td>\n",
       "      <td>165.000000</td>\n",
       "      <td>342.000000</td>\n",
       "      <td>0.000000</td>\n",
       "      <td>0.000000</td>\n",
       "    </tr>\n",
       "    <tr>\n",
       "      <th>50%</th>\n",
       "      <td>1.341481e+18</td>\n",
       "      <td>6.060000e+02</td>\n",
       "      <td>441.000000</td>\n",
       "      <td>1659.000000</td>\n",
       "      <td>0.000000</td>\n",
       "      <td>1.000000</td>\n",
       "    </tr>\n",
       "    <tr>\n",
       "      <th>75%</th>\n",
       "      <td>1.344353e+18</td>\n",
       "      <td>2.978000e+03</td>\n",
       "      <td>1191.000000</td>\n",
       "      <td>9733.750000</td>\n",
       "      <td>1.000000</td>\n",
       "      <td>4.000000</td>\n",
       "    </tr>\n",
       "    <tr>\n",
       "      <th>max</th>\n",
       "      <td>1.347131e+18</td>\n",
       "      <td>1.371493e+07</td>\n",
       "      <td>64441.000000</td>\n",
       "      <td>924667.000000</td>\n",
       "      <td>446.000000</td>\n",
       "      <td>2129.000000</td>\n",
       "    </tr>\n",
       "  </tbody>\n",
       "</table>\n",
       "</div>"
      ],
      "text/plain": [
       "                 id  user_followers  user_friends  user_favourites  \\\n",
       "count  2.518000e+03    2.518000e+03   2518.000000      2518.000000   \n",
       "mean   1.341949e+18    6.342983e+04   1170.952740     13380.415012   \n",
       "std    2.768504e+15    4.762127e+05   2469.263253     41706.034152   \n",
       "min    1.337728e+18    0.000000e+00      0.000000         0.000000   \n",
       "25%    1.339437e+18    1.140000e+02    165.000000       342.000000   \n",
       "50%    1.341481e+18    6.060000e+02    441.000000      1659.000000   \n",
       "75%    1.344353e+18    2.978000e+03   1191.000000      9733.750000   \n",
       "max    1.347131e+18    1.371493e+07  64441.000000    924667.000000   \n",
       "\n",
       "          retweets    favorites  \n",
       "count  2518.000000  2518.000000  \n",
       "mean      1.715250    10.464654  \n",
       "std      12.237077    74.644921  \n",
       "min       0.000000     0.000000  \n",
       "25%       0.000000     0.000000  \n",
       "50%       0.000000     1.000000  \n",
       "75%       1.000000     4.000000  \n",
       "max     446.000000  2129.000000  "
      ]
     },
     "execution_count": 113,
     "metadata": {},
     "output_type": "execute_result"
    }
   ],
   "source": [
    "data.describe()"
   ]
  },
  {
   "cell_type": "code",
   "execution_count": 4,
   "id": "5b08d4e1",
   "metadata": {},
   "outputs": [
    {
     "name": "stdout",
     "output_type": "stream",
     "text": [
      "<class 'pandas.core.frame.DataFrame'>\n",
      "RangeIndex: 2518 entries, 0 to 2517\n",
      "Data columns (total 16 columns):\n",
      " #   Column            Non-Null Count  Dtype \n",
      "---  ------            --------------  ----- \n",
      " 0   id                2518 non-null   int64 \n",
      " 1   user_name         2518 non-null   object\n",
      " 2   user_location     1998 non-null   object\n",
      " 3   user_description  2394 non-null   object\n",
      " 4   user_created      2518 non-null   object\n",
      " 5   user_followers    2518 non-null   int64 \n",
      " 6   user_friends      2518 non-null   int64 \n",
      " 7   user_favourites   2518 non-null   int64 \n",
      " 8   user_verified     2518 non-null   bool  \n",
      " 9   date              2518 non-null   object\n",
      " 10  text              2518 non-null   object\n",
      " 11  hashtags          1884 non-null   object\n",
      " 12  source            2517 non-null   object\n",
      " 13  retweets          2518 non-null   int64 \n",
      " 14  favorites         2518 non-null   int64 \n",
      " 15  is_retweet        2518 non-null   bool  \n",
      "dtypes: bool(2), int64(6), object(8)\n",
      "memory usage: 280.4+ KB\n"
     ]
    }
   ],
   "source": [
    "data.info()"
   ]
  },
  {
   "cell_type": "code",
   "execution_count": 4,
   "id": "41d6cd36",
   "metadata": {},
   "outputs": [
    {
     "data": {
      "text/plain": [
       "['id',\n",
       " 'user_name',\n",
       " 'user_location',\n",
       " 'user_description',\n",
       " 'user_created',\n",
       " 'user_followers',\n",
       " 'user_friends',\n",
       " 'user_favourites',\n",
       " 'user_verified',\n",
       " 'date',\n",
       " 'text',\n",
       " 'hashtags',\n",
       " 'source',\n",
       " 'retweets',\n",
       " 'favorites',\n",
       " 'is_retweet']"
      ]
     },
     "execution_count": 4,
     "metadata": {},
     "output_type": "execute_result"
    }
   ],
   "source": [
    "columns = []\n",
    "for i in data.columns:\n",
    "    columns.append(i)\n",
    "columns"
   ]
  },
  {
   "cell_type": "code",
   "execution_count": 6,
   "id": "208cd937",
   "metadata": {},
   "outputs": [
    {
     "data": {
      "text/plain": [
       "id                  False\n",
       "user_name           False\n",
       "user_location        True\n",
       "user_description     True\n",
       "user_created        False\n",
       "user_followers      False\n",
       "user_friends        False\n",
       "user_favourites     False\n",
       "user_verified       False\n",
       "date                False\n",
       "text                False\n",
       "hashtags             True\n",
       "source               True\n",
       "retweets            False\n",
       "favorites           False\n",
       "is_retweet          False\n",
       "dtype: bool"
      ]
     },
     "execution_count": 6,
     "metadata": {},
     "output_type": "execute_result"
    }
   ],
   "source": [
    "data.isnull().any()"
   ]
  },
  {
   "cell_type": "code",
   "execution_count": 31,
   "id": "0f51f035",
   "metadata": {},
   "outputs": [
    {
     "data": {
      "text/plain": [
       "id                    0\n",
       "user_name             0\n",
       "user_location       520\n",
       "user_description    124\n",
       "user_created          0\n",
       "user_followers        0\n",
       "user_friends          0\n",
       "user_favourites       0\n",
       "user_verified         0\n",
       "date                  0\n",
       "text                  0\n",
       "hashtags            634\n",
       "source                1\n",
       "retweets              0\n",
       "favorites             0\n",
       "is_retweet            0\n",
       "dtype: int64"
      ]
     },
     "execution_count": 31,
     "metadata": {},
     "output_type": "execute_result"
    }
   ],
   "source": [
    "data.isnull().sum()"
   ]
  },
  {
   "cell_type": "code",
   "execution_count": 7,
   "id": "d0c88006",
   "metadata": {},
   "outputs": [
    {
     "data": {
      "text/html": [
       "<div>\n",
       "<style scoped>\n",
       "    .dataframe tbody tr th:only-of-type {\n",
       "        vertical-align: middle;\n",
       "    }\n",
       "\n",
       "    .dataframe tbody tr th {\n",
       "        vertical-align: top;\n",
       "    }\n",
       "\n",
       "    .dataframe thead th {\n",
       "        text-align: right;\n",
       "    }\n",
       "</style>\n",
       "<table border=\"1\" class=\"dataframe\">\n",
       "  <thead>\n",
       "    <tr style=\"text-align: right;\">\n",
       "      <th></th>\n",
       "      <th>id</th>\n",
       "      <th>user_name</th>\n",
       "      <th>user_location</th>\n",
       "      <th>user_description</th>\n",
       "      <th>user_created</th>\n",
       "      <th>user_followers</th>\n",
       "      <th>user_friends</th>\n",
       "      <th>user_favourites</th>\n",
       "      <th>user_verified</th>\n",
       "      <th>date</th>\n",
       "      <th>text</th>\n",
       "      <th>hashtags</th>\n",
       "      <th>source</th>\n",
       "      <th>retweets</th>\n",
       "      <th>favorites</th>\n",
       "      <th>is_retweet</th>\n",
       "    </tr>\n",
       "  </thead>\n",
       "  <tbody>\n",
       "    <tr>\n",
       "      <th>0</th>\n",
       "      <td>False</td>\n",
       "      <td>False</td>\n",
       "      <td>False</td>\n",
       "      <td>False</td>\n",
       "      <td>False</td>\n",
       "      <td>False</td>\n",
       "      <td>False</td>\n",
       "      <td>False</td>\n",
       "      <td>False</td>\n",
       "      <td>False</td>\n",
       "      <td>False</td>\n",
       "      <td>False</td>\n",
       "      <td>False</td>\n",
       "      <td>False</td>\n",
       "      <td>False</td>\n",
       "      <td>False</td>\n",
       "    </tr>\n",
       "    <tr>\n",
       "      <th>1</th>\n",
       "      <td>False</td>\n",
       "      <td>False</td>\n",
       "      <td>False</td>\n",
       "      <td>False</td>\n",
       "      <td>False</td>\n",
       "      <td>False</td>\n",
       "      <td>False</td>\n",
       "      <td>False</td>\n",
       "      <td>False</td>\n",
       "      <td>False</td>\n",
       "      <td>False</td>\n",
       "      <td>True</td>\n",
       "      <td>False</td>\n",
       "      <td>False</td>\n",
       "      <td>False</td>\n",
       "      <td>False</td>\n",
       "    </tr>\n",
       "    <tr>\n",
       "      <th>2</th>\n",
       "      <td>False</td>\n",
       "      <td>False</td>\n",
       "      <td>False</td>\n",
       "      <td>False</td>\n",
       "      <td>False</td>\n",
       "      <td>False</td>\n",
       "      <td>False</td>\n",
       "      <td>False</td>\n",
       "      <td>False</td>\n",
       "      <td>False</td>\n",
       "      <td>False</td>\n",
       "      <td>False</td>\n",
       "      <td>False</td>\n",
       "      <td>False</td>\n",
       "      <td>False</td>\n",
       "      <td>False</td>\n",
       "    </tr>\n",
       "    <tr>\n",
       "      <th>3</th>\n",
       "      <td>False</td>\n",
       "      <td>False</td>\n",
       "      <td>False</td>\n",
       "      <td>False</td>\n",
       "      <td>False</td>\n",
       "      <td>False</td>\n",
       "      <td>False</td>\n",
       "      <td>False</td>\n",
       "      <td>False</td>\n",
       "      <td>False</td>\n",
       "      <td>False</td>\n",
       "      <td>True</td>\n",
       "      <td>False</td>\n",
       "      <td>False</td>\n",
       "      <td>False</td>\n",
       "      <td>False</td>\n",
       "    </tr>\n",
       "    <tr>\n",
       "      <th>4</th>\n",
       "      <td>False</td>\n",
       "      <td>False</td>\n",
       "      <td>True</td>\n",
       "      <td>False</td>\n",
       "      <td>False</td>\n",
       "      <td>False</td>\n",
       "      <td>False</td>\n",
       "      <td>False</td>\n",
       "      <td>False</td>\n",
       "      <td>False</td>\n",
       "      <td>False</td>\n",
       "      <td>False</td>\n",
       "      <td>False</td>\n",
       "      <td>False</td>\n",
       "      <td>False</td>\n",
       "      <td>False</td>\n",
       "    </tr>\n",
       "    <tr>\n",
       "      <th>...</th>\n",
       "      <td>...</td>\n",
       "      <td>...</td>\n",
       "      <td>...</td>\n",
       "      <td>...</td>\n",
       "      <td>...</td>\n",
       "      <td>...</td>\n",
       "      <td>...</td>\n",
       "      <td>...</td>\n",
       "      <td>...</td>\n",
       "      <td>...</td>\n",
       "      <td>...</td>\n",
       "      <td>...</td>\n",
       "      <td>...</td>\n",
       "      <td>...</td>\n",
       "      <td>...</td>\n",
       "      <td>...</td>\n",
       "    </tr>\n",
       "    <tr>\n",
       "      <th>2513</th>\n",
       "      <td>False</td>\n",
       "      <td>False</td>\n",
       "      <td>False</td>\n",
       "      <td>False</td>\n",
       "      <td>False</td>\n",
       "      <td>False</td>\n",
       "      <td>False</td>\n",
       "      <td>False</td>\n",
       "      <td>False</td>\n",
       "      <td>False</td>\n",
       "      <td>False</td>\n",
       "      <td>False</td>\n",
       "      <td>False</td>\n",
       "      <td>False</td>\n",
       "      <td>False</td>\n",
       "      <td>False</td>\n",
       "    </tr>\n",
       "    <tr>\n",
       "      <th>2514</th>\n",
       "      <td>False</td>\n",
       "      <td>False</td>\n",
       "      <td>True</td>\n",
       "      <td>False</td>\n",
       "      <td>False</td>\n",
       "      <td>False</td>\n",
       "      <td>False</td>\n",
       "      <td>False</td>\n",
       "      <td>False</td>\n",
       "      <td>False</td>\n",
       "      <td>False</td>\n",
       "      <td>False</td>\n",
       "      <td>False</td>\n",
       "      <td>False</td>\n",
       "      <td>False</td>\n",
       "      <td>False</td>\n",
       "    </tr>\n",
       "    <tr>\n",
       "      <th>2515</th>\n",
       "      <td>False</td>\n",
       "      <td>False</td>\n",
       "      <td>False</td>\n",
       "      <td>False</td>\n",
       "      <td>False</td>\n",
       "      <td>False</td>\n",
       "      <td>False</td>\n",
       "      <td>False</td>\n",
       "      <td>False</td>\n",
       "      <td>False</td>\n",
       "      <td>False</td>\n",
       "      <td>False</td>\n",
       "      <td>False</td>\n",
       "      <td>False</td>\n",
       "      <td>False</td>\n",
       "      <td>False</td>\n",
       "    </tr>\n",
       "    <tr>\n",
       "      <th>2516</th>\n",
       "      <td>False</td>\n",
       "      <td>False</td>\n",
       "      <td>False</td>\n",
       "      <td>False</td>\n",
       "      <td>False</td>\n",
       "      <td>False</td>\n",
       "      <td>False</td>\n",
       "      <td>False</td>\n",
       "      <td>False</td>\n",
       "      <td>False</td>\n",
       "      <td>False</td>\n",
       "      <td>False</td>\n",
       "      <td>False</td>\n",
       "      <td>False</td>\n",
       "      <td>False</td>\n",
       "      <td>False</td>\n",
       "    </tr>\n",
       "    <tr>\n",
       "      <th>2517</th>\n",
       "      <td>False</td>\n",
       "      <td>False</td>\n",
       "      <td>False</td>\n",
       "      <td>False</td>\n",
       "      <td>False</td>\n",
       "      <td>False</td>\n",
       "      <td>False</td>\n",
       "      <td>False</td>\n",
       "      <td>False</td>\n",
       "      <td>False</td>\n",
       "      <td>False</td>\n",
       "      <td>False</td>\n",
       "      <td>False</td>\n",
       "      <td>False</td>\n",
       "      <td>False</td>\n",
       "      <td>False</td>\n",
       "    </tr>\n",
       "  </tbody>\n",
       "</table>\n",
       "<p>2518 rows × 16 columns</p>\n",
       "</div>"
      ],
      "text/plain": [
       "         id  user_name  user_location  user_description  user_created  \\\n",
       "0     False      False          False             False         False   \n",
       "1     False      False          False             False         False   \n",
       "2     False      False          False             False         False   \n",
       "3     False      False          False             False         False   \n",
       "4     False      False           True             False         False   \n",
       "...     ...        ...            ...               ...           ...   \n",
       "2513  False      False          False             False         False   \n",
       "2514  False      False           True             False         False   \n",
       "2515  False      False          False             False         False   \n",
       "2516  False      False          False             False         False   \n",
       "2517  False      False          False             False         False   \n",
       "\n",
       "      user_followers  user_friends  user_favourites  user_verified   date  \\\n",
       "0              False         False            False          False  False   \n",
       "1              False         False            False          False  False   \n",
       "2              False         False            False          False  False   \n",
       "3              False         False            False          False  False   \n",
       "4              False         False            False          False  False   \n",
       "...              ...           ...              ...            ...    ...   \n",
       "2513           False         False            False          False  False   \n",
       "2514           False         False            False          False  False   \n",
       "2515           False         False            False          False  False   \n",
       "2516           False         False            False          False  False   \n",
       "2517           False         False            False          False  False   \n",
       "\n",
       "       text  hashtags  source  retweets  favorites  is_retweet  \n",
       "0     False     False   False     False      False       False  \n",
       "1     False      True   False     False      False       False  \n",
       "2     False     False   False     False      False       False  \n",
       "3     False      True   False     False      False       False  \n",
       "4     False     False   False     False      False       False  \n",
       "...     ...       ...     ...       ...        ...         ...  \n",
       "2513  False     False   False     False      False       False  \n",
       "2514  False     False   False     False      False       False  \n",
       "2515  False     False   False     False      False       False  \n",
       "2516  False     False   False     False      False       False  \n",
       "2517  False     False   False     False      False       False  \n",
       "\n",
       "[2518 rows x 16 columns]"
      ]
     },
     "execution_count": 7,
     "metadata": {},
     "output_type": "execute_result"
    }
   ],
   "source": [
    "data.isnull()"
   ]
  },
  {
   "cell_type": "code",
   "execution_count": 21,
   "id": "8191f135",
   "metadata": {},
   "outputs": [
    {
     "data": {
      "text/plain": [
       "<AxesSubplot:>"
      ]
     },
     "execution_count": 21,
     "metadata": {},
     "output_type": "execute_result"
    },
    {
     "data": {
      "image/png": "[encoded data removed]",
      "text/plain": [
       "<Figure size 432x288 with 2 Axes>"
      ]
     },
     "metadata": {
      "needs_background": "light"
     },
     "output_type": "display_data"
    }
   ],
   "source": [
    "#Visualizing Missing Data using Seaborn heatmap()\n",
    "sns.heatmap(data.isnull(),cmap='magma')"
   ]
  },
  {
   "cell_type": "code",
   "execution_count": 29,
   "id": "55a707a6",
   "metadata": {},
   "outputs": [
    {
     "data": {
      "text/plain": [
       "['user_location', 'user_description', 'hashtags', 'source']"
      ]
     },
     "execution_count": 29,
     "metadata": {},
     "output_type": "execute_result"
    }
   ],
   "source": [
    "null_value_columns = []\n",
    "for i in data.columns:\n",
    "    if data[i].isnull().any() == True:\n",
    "        null_value_columns.append(i)\n",
    "null_value_columns"
   ]
  },
  {
   "cell_type": "code",
   "execution_count": 30,
   "id": "f4a64904",
   "metadata": {},
   "outputs": [
    {
     "data": {
      "text/html": [
       "<div>\n",
       "<style scoped>\n",
       "    .dataframe tbody tr th:only-of-type {\n",
       "        vertical-align: middle;\n",
       "    }\n",
       "\n",
       "    .dataframe tbody tr th {\n",
       "        vertical-align: top;\n",
       "    }\n",
       "\n",
       "    .dataframe thead th {\n",
       "        text-align: right;\n",
       "    }\n",
       "</style>\n",
       "<table border=\"1\" class=\"dataframe\">\n",
       "  <thead>\n",
       "    <tr style=\"text-align: right;\">\n",
       "      <th></th>\n",
       "      <th>id</th>\n",
       "      <th>user_name</th>\n",
       "      <th>user_location</th>\n",
       "      <th>user_description</th>\n",
       "      <th>user_created</th>\n",
       "      <th>user_followers</th>\n",
       "      <th>user_friends</th>\n",
       "      <th>user_favourites</th>\n",
       "      <th>user_verified</th>\n",
       "      <th>date</th>\n",
       "      <th>text</th>\n",
       "      <th>hashtags</th>\n",
       "      <th>source</th>\n",
       "      <th>retweets</th>\n",
       "      <th>favorites</th>\n",
       "      <th>is_retweet</th>\n",
       "    </tr>\n",
       "  </thead>\n",
       "  <tbody>\n",
       "    <tr>\n",
       "      <th>1839</th>\n",
       "      <td>1344269125011562498</td>\n",
       "      <td>RoboForex Official</td>\n",
       "      <td>NaN</td>\n",
       "      <td>International broker that offers to trade 8 ty...</td>\n",
       "      <td>2020-11-16 16:22:43</td>\n",
       "      <td>84</td>\n",
       "      <td>1</td>\n",
       "      <td>20</td>\n",
       "      <td>False</td>\n",
       "      <td>2020-12-30 13:08:29</td>\n",
       "      <td>💉 #Pfizer and #BioNTech were the first to get ...</td>\n",
       "      <td>['Pfizer', 'BioNTech']</td>\n",
       "      <td>NaN</td>\n",
       "      <td>0</td>\n",
       "      <td>0</td>\n",
       "      <td>False</td>\n",
       "    </tr>\n",
       "  </tbody>\n",
       "</table>\n",
       "</div>"
      ],
      "text/plain": [
       "                       id           user_name user_location  \\\n",
       "1839  1344269125011562498  RoboForex Official           NaN   \n",
       "\n",
       "                                       user_description         user_created  \\\n",
       "1839  International broker that offers to trade 8 ty...  2020-11-16 16:22:43   \n",
       "\n",
       "      user_followers  user_friends  user_favourites  user_verified  \\\n",
       "1839              84             1               20          False   \n",
       "\n",
       "                     date                                               text  \\\n",
       "1839  2020-12-30 13:08:29  💉 #Pfizer and #BioNTech were the first to get ...   \n",
       "\n",
       "                    hashtags source  retweets  favorites  is_retweet  \n",
       "1839  ['Pfizer', 'BioNTech']    NaN         0          0       False  "
      ]
     },
     "execution_count": 30,
     "metadata": {},
     "output_type": "execute_result"
    }
   ],
   "source": [
    "data[data[\"source\"].isnull()]"
   ]
  },
  {
   "cell_type": "code",
   "execution_count": null,
   "id": "398024b1",
   "metadata": {},
   "outputs": [],
   "source": [
    "np.where(data['user_location'].isnull())"
   ]
  },
  {
   "cell_type": "code",
   "execution_count": 33,
   "id": "87679de5",
   "metadata": {},
   "outputs": [
    {
     "data": {
      "text/plain": [
       "(array([  20,   46,   59,   78,   97,  121,  141,  144,  148,  153,  161,\n",
       "         208,  213,  219,  230,  261,  309,  344,  373,  378,  379,  380,\n",
       "         381,  383,  389,  398,  401,  405,  428,  465,  466,  498,  505,\n",
       "         567,  591,  617,  636,  683,  694,  697,  751,  753,  790,  791,\n",
       "         804,  813,  832,  833,  842,  849,  850,  863,  884,  893,  895,\n",
       "        1039, 1041, 1089, 1127, 1138, 1162, 1167, 1170, 1176, 1177, 1195,\n",
       "        1231, 1277, 1315, 1344, 1423, 1431, 1483, 1491, 1502, 1533, 1549,\n",
       "        1609, 1611, 1621, 1623, 1626, 1678, 1693, 1695, 1713, 1716, 1770,\n",
       "        1771, 1805, 1837, 1847, 1848, 1861, 1892, 1912, 1936, 1959, 1961,\n",
       "        2036, 2044, 2076, 2080, 2090, 2094, 2095, 2110, 2142, 2165, 2199,\n",
       "        2212, 2240, 2269, 2270, 2274, 2279, 2311, 2319, 2354, 2368, 2405,\n",
       "        2415, 2453, 2472], dtype=int64),)"
      ]
     },
     "execution_count": 33,
     "metadata": {},
     "output_type": "execute_result"
    }
   ],
   "source": [
    "np.where(data['user_description'].isnull())"
   ]
  },
  {
   "cell_type": "code",
   "execution_count": null,
   "id": "05f1ea10",
   "metadata": {},
   "outputs": [],
   "source": [
    "np.where(data['hashtags'].isnull())"
   ]
  },
  {
   "cell_type": "code",
   "execution_count": 34,
   "id": "b797ae11",
   "metadata": {},
   "outputs": [
    {
     "data": {
      "text/plain": [
       "(array([1839], dtype=int64),)"
      ]
     },
     "execution_count": 34,
     "metadata": {},
     "output_type": "execute_result"
    }
   ],
   "source": [
    "np.where(data['source'].isnull())"
   ]
  },
  {
   "cell_type": "code",
   "execution_count": 3,
   "id": "f3387838",
   "metadata": {},
   "outputs": [
    {
     "data": {
      "text/plain": [
       "id                  0\n",
       "user_name           0\n",
       "user_location       0\n",
       "user_description    0\n",
       "user_created        0\n",
       "user_followers      0\n",
       "user_friends        0\n",
       "user_favourites     0\n",
       "user_verified       0\n",
       "date                0\n",
       "text                0\n",
       "hashtags            0\n",
       "source              0\n",
       "retweets            0\n",
       "favorites           0\n",
       "is_retweet          0\n",
       "dtype: int64"
      ]
     },
     "execution_count": 3,
     "metadata": {},
     "output_type": "execute_result"
    }
   ],
   "source": [
    "# fill nan values with a sensable string\n",
    "data['user_location'] = data[\"user_location\"].fillna(\"Location Unavialable\")\n",
    "data['user_description'] = data[\"user_description\"].fillna(\"User Description Unavialable\")\n",
    "data['hashtags'] = data[\"hashtags\"].fillna(\"Hashtag Unavialable\")\n",
    "data['source'] = data[\"source\"].fillna(\"Source Unavialable\")\n",
    "\n",
    "data.isnull().sum()"
   ]
  },
  {
   "cell_type": "code",
   "execution_count": 5,
   "id": "023e03cc",
   "metadata": {},
   "outputs": [
    {
     "name": "stdout",
     "output_type": "stream",
     "text": [
      "number of unique values in id is =  2518\n",
      "number of unique values in user_name is =  1704\n",
      "number of unique values in user_location is =  876\n",
      "number of unique values in user_description is =  1614\n",
      "number of unique values in user_created is =  1703\n",
      "number of unique values in user_followers is =  1307\n",
      "number of unique values in user_friends is =  1157\n",
      "number of unique values in user_favourites is =  1616\n",
      "number of unique values in user_verified is =  2\n",
      "number of unique values in date is =  2516\n",
      "number of unique values in text is =  2518\n",
      "number of unique values in hashtags is =  1192\n",
      "number of unique values in source is =  27\n",
      "number of unique values in retweets is =  42\n",
      "number of unique values in favorites is =  115\n",
      "number of unique values in is_retweet is =  1\n"
     ]
    }
   ],
   "source": [
    "for i in columns:\n",
    "    print(\"number of unique values in\",i,\"is = \",len(np.unique(data[i])))"
   ]
  },
  {
   "cell_type": "markdown",
   "id": "b19c9815",
   "metadata": {},
   "source": [
    "## 4 - Visualize the data"
   ]
  },
  {
   "cell_type": "code",
   "execution_count": 11,
   "id": "47c90840",
   "metadata": {},
   "outputs": [
    {
     "data": {
      "text/plain": [
       "<matplotlib.collections.PathCollection at 0x179875c2100>"
      ]
     },
     "execution_count": 11,
     "metadata": {},
     "output_type": "execute_result"
    },
    {
     "data": {
      "image/png": "[encoded data removed]",
      "text/plain": [
       "<Figure size 432x288 with 1 Axes>"
      ]
     },
     "metadata": {
      "needs_background": "light"
     },
     "output_type": "display_data"
    }
   ],
   "source": [
    "plt.scatter(data['id'],data['user_followers'])"
   ]
  },
  {
   "cell_type": "markdown",
   "id": "0d64470d",
   "metadata": {},
   "source": [
    "- we can see that there are some outliers that deviates significantly from the thick line hence we can't use user_followers to train our model."
   ]
  },
  {
   "cell_type": "code",
   "execution_count": 12,
   "id": "5305d7f4",
   "metadata": {},
   "outputs": [
    {
     "data": {
      "text/plain": [
       "<matplotlib.collections.PathCollection at 0x17989474fa0>"
      ]
     },
     "execution_count": 12,
     "metadata": {},
     "output_type": "execute_result"
    },
    {
     "data": {
      "image/png": "[encoded data removed]",
      "text/plain": [
       "<Figure size 432x288 with 1 Axes>"
      ]
     },
     "metadata": {
      "needs_background": "light"
     },
     "output_type": "display_data"
    }
   ],
   "source": [
    "plt.scatter(data['id'],data['user_friends'])"
   ]
  },
  {
   "cell_type": "code",
   "execution_count": 13,
   "id": "733595c4",
   "metadata": {},
   "outputs": [
    {
     "data": {
      "text/plain": [
       "<matplotlib.collections.PathCollection at 0x1798767f850>"
      ]
     },
     "execution_count": 13,
     "metadata": {},
     "output_type": "execute_result"
    },
    {
     "data": {
      "image/png": "[encoded data removed]",
      "text/plain": [
       "<Figure size 432x288 with 1 Axes>"
      ]
     },
     "metadata": {
      "needs_background": "light"
     },
     "output_type": "display_data"
    }
   ],
   "source": [
    "plt.scatter(data['id'],data['user_favourites'])"
   ]
  },
  {
   "cell_type": "code",
   "execution_count": 14,
   "id": "4ef4406f",
   "metadata": {},
   "outputs": [
    {
     "data": {
      "text/plain": [
       "<matplotlib.collections.PathCollection at 0x1798d39ad00>"
      ]
     },
     "execution_count": 14,
     "metadata": {},
     "output_type": "execute_result"
    },
    {
     "data": {
      "image/png": "[encoded data removed]",
      "text/plain": [
       "<Figure size 432x288 with 1 Axes>"
      ]
     },
     "metadata": {
      "needs_background": "light"
     },
     "output_type": "display_data"
    }
   ],
   "source": [
    "plt.scatter(data['id'],data['retweets'])"
   ]
  },
  {
   "cell_type": "code",
   "execution_count": 15,
   "id": "560c5f5b",
   "metadata": {},
   "outputs": [
    {
     "data": {
      "text/plain": [
       "<matplotlib.collections.PathCollection at 0x17987e2a280>"
      ]
     },
     "execution_count": 15,
     "metadata": {},
     "output_type": "execute_result"
    },
    {
     "data": {
      "image/png": "[encoded data removed]",
      "text/plain": [
       "<Figure size 432x288 with 1 Axes>"
      ]
     },
     "metadata": {
      "needs_background": "light"
     },
     "output_type": "display_data"
    }
   ],
   "source": [
    "plt.scatter(data['id'],data['is_retweet'])"
   ]
  },
  {
   "cell_type": "code",
   "execution_count": 16,
   "id": "9027a0d4",
   "metadata": {},
   "outputs": [
    {
     "data": {
      "text/html": [
       "<div>\n",
       "<style scoped>\n",
       "    .dataframe tbody tr th:only-of-type {\n",
       "        vertical-align: middle;\n",
       "    }\n",
       "\n",
       "    .dataframe tbody tr th {\n",
       "        vertical-align: top;\n",
       "    }\n",
       "\n",
       "    .dataframe thead th {\n",
       "        text-align: right;\n",
       "    }\n",
       "</style>\n",
       "<table border=\"1\" class=\"dataframe\">\n",
       "  <thead>\n",
       "    <tr style=\"text-align: right;\">\n",
       "      <th></th>\n",
       "      <th>id</th>\n",
       "      <th>user_name</th>\n",
       "      <th>user_location</th>\n",
       "      <th>user_description</th>\n",
       "      <th>user_created</th>\n",
       "      <th>user_followers</th>\n",
       "      <th>user_friends</th>\n",
       "      <th>user_favourites</th>\n",
       "      <th>user_verified</th>\n",
       "      <th>date</th>\n",
       "      <th>text</th>\n",
       "      <th>hashtags</th>\n",
       "      <th>source</th>\n",
       "      <th>retweets</th>\n",
       "      <th>favorites</th>\n",
       "      <th>is_retweet</th>\n",
       "    </tr>\n",
       "  </thead>\n",
       "  <tbody>\n",
       "    <tr>\n",
       "      <th>0</th>\n",
       "      <td>1340539111971516416</td>\n",
       "      <td>Rachel Roh</td>\n",
       "      <td>La Crescenta-Montrose, CA</td>\n",
       "      <td>Aggregator of Asian American news; scanning di...</td>\n",
       "      <td>2009-04-08 17:52:46</td>\n",
       "      <td>405</td>\n",
       "      <td>1692</td>\n",
       "      <td>3247</td>\n",
       "      <td>False</td>\n",
       "      <td>2020-12-20 06:06:44</td>\n",
       "      <td>Same folks said daikon paste could treat a cyt...</td>\n",
       "      <td>['PfizerBioNTech']</td>\n",
       "      <td>Twitter for Android</td>\n",
       "      <td>0</td>\n",
       "      <td>0</td>\n",
       "      <td>False</td>\n",
       "    </tr>\n",
       "  </tbody>\n",
       "</table>\n",
       "</div>"
      ],
      "text/plain": [
       "                    id   user_name              user_location  \\\n",
       "0  1340539111971516416  Rachel Roh  La Crescenta-Montrose, CA   \n",
       "\n",
       "                                    user_description         user_created  \\\n",
       "0  Aggregator of Asian American news; scanning di...  2009-04-08 17:52:46   \n",
       "\n",
       "   user_followers  user_friends  user_favourites  user_verified  \\\n",
       "0             405          1692             3247          False   \n",
       "\n",
       "                  date                                               text  \\\n",
       "0  2020-12-20 06:06:44  Same folks said daikon paste could treat a cyt...   \n",
       "\n",
       "             hashtags               source  retweets  favorites  is_retweet  \n",
       "0  ['PfizerBioNTech']  Twitter for Android         0          0       False  "
      ]
     },
     "execution_count": 16,
     "metadata": {},
     "output_type": "execute_result"
    }
   ],
   "source": [
    "data.head(1)"
   ]
  },
  {
   "cell_type": "code",
   "execution_count": 17,
   "id": "b817e96c",
   "metadata": {},
   "outputs": [],
   "source": [
    "from sklearn.preprocessing import LabelEncoder\n",
    "data['user_name'] = LabelEncoder().fit_transform(data['user_name']) #Fit label encoder and return encoded labels.\n",
    "data['user_location'] = LabelEncoder().fit_transform(data[\"user_location\"])\n",
    "data['user_description'] = LabelEncoder().fit_transform(data[\"user_description\"])\n",
    "data['hashtags'] = LabelEncoder().fit_transform(data[\"hashtags\"])\n",
    "data['source'] = LabelEncoder().fit_transform(data[\"source\"])"
   ]
  },
  {
   "cell_type": "code",
   "execution_count": 18,
   "id": "18e899fd",
   "metadata": {},
   "outputs": [
    {
     "data": {
      "text/html": [
       "<div>\n",
       "<style scoped>\n",
       "    .dataframe tbody tr th:only-of-type {\n",
       "        vertical-align: middle;\n",
       "    }\n",
       "\n",
       "    .dataframe tbody tr th {\n",
       "        vertical-align: top;\n",
       "    }\n",
       "\n",
       "    .dataframe thead th {\n",
       "        text-align: right;\n",
       "    }\n",
       "</style>\n",
       "<table border=\"1\" class=\"dataframe\">\n",
       "  <thead>\n",
       "    <tr style=\"text-align: right;\">\n",
       "      <th></th>\n",
       "      <th>id</th>\n",
       "      <th>user_name</th>\n",
       "      <th>user_location</th>\n",
       "      <th>user_description</th>\n",
       "      <th>user_created</th>\n",
       "      <th>user_followers</th>\n",
       "      <th>user_friends</th>\n",
       "      <th>user_favourites</th>\n",
       "      <th>user_verified</th>\n",
       "      <th>date</th>\n",
       "      <th>text</th>\n",
       "      <th>hashtags</th>\n",
       "      <th>source</th>\n",
       "      <th>retweets</th>\n",
       "      <th>favorites</th>\n",
       "      <th>is_retweet</th>\n",
       "    </tr>\n",
       "  </thead>\n",
       "  <tbody>\n",
       "    <tr>\n",
       "      <th>0</th>\n",
       "      <td>1340539111971516416</td>\n",
       "      <td>1139</td>\n",
       "      <td>386</td>\n",
       "      <td>140</td>\n",
       "      <td>2009-04-08 17:52:46</td>\n",
       "      <td>405</td>\n",
       "      <td>1692</td>\n",
       "      <td>3247</td>\n",
       "      <td>False</td>\n",
       "      <td>2020-12-20 06:06:44</td>\n",
       "      <td>Same folks said daikon paste could treat a cyt...</td>\n",
       "      <td>754</td>\n",
       "      <td>23</td>\n",
       "      <td>0</td>\n",
       "      <td>0</td>\n",
       "      <td>False</td>\n",
       "    </tr>\n",
       "  </tbody>\n",
       "</table>\n",
       "</div>"
      ],
      "text/plain": [
       "                    id  user_name  user_location  user_description  \\\n",
       "0  1340539111971516416       1139            386               140   \n",
       "\n",
       "          user_created  user_followers  user_friends  user_favourites  \\\n",
       "0  2009-04-08 17:52:46             405          1692             3247   \n",
       "\n",
       "   user_verified                 date  \\\n",
       "0          False  2020-12-20 06:06:44   \n",
       "\n",
       "                                                text  hashtags  source  \\\n",
       "0  Same folks said daikon paste could treat a cyt...       754      23   \n",
       "\n",
       "   retweets  favorites  is_retweet  \n",
       "0         0          0       False  "
      ]
     },
     "execution_count": 18,
     "metadata": {},
     "output_type": "execute_result"
    }
   ],
   "source": [
    "data.head(1)"
   ]
  },
  {
   "cell_type": "code",
   "execution_count": 20,
   "id": "f757a9ae",
   "metadata": {},
   "outputs": [],
   "source": [
    "data.drop('date',axis=1,inplace=True)"
   ]
  },
  {
   "cell_type": "code",
   "execution_count": 21,
   "id": "1739f6c2",
   "metadata": {},
   "outputs": [
    {
     "data": {
      "text/html": [
       "<div>\n",
       "<style scoped>\n",
       "    .dataframe tbody tr th:only-of-type {\n",
       "        vertical-align: middle;\n",
       "    }\n",
       "\n",
       "    .dataframe tbody tr th {\n",
       "        vertical-align: top;\n",
       "    }\n",
       "\n",
       "    .dataframe thead th {\n",
       "        text-align: right;\n",
       "    }\n",
       "</style>\n",
       "<table border=\"1\" class=\"dataframe\">\n",
       "  <thead>\n",
       "    <tr style=\"text-align: right;\">\n",
       "      <th></th>\n",
       "      <th>id</th>\n",
       "      <th>user_name</th>\n",
       "      <th>user_location</th>\n",
       "      <th>user_description</th>\n",
       "      <th>user_created</th>\n",
       "      <th>user_followers</th>\n",
       "      <th>user_friends</th>\n",
       "      <th>user_favourites</th>\n",
       "      <th>user_verified</th>\n",
       "      <th>text</th>\n",
       "      <th>hashtags</th>\n",
       "      <th>source</th>\n",
       "      <th>retweets</th>\n",
       "      <th>favorites</th>\n",
       "      <th>is_retweet</th>\n",
       "    </tr>\n",
       "  </thead>\n",
       "  <tbody>\n",
       "    <tr>\n",
       "      <th>0</th>\n",
       "      <td>1340539111971516416</td>\n",
       "      <td>1139</td>\n",
       "      <td>386</td>\n",
       "      <td>140</td>\n",
       "      <td>2009-04-08 17:52:46</td>\n",
       "      <td>405</td>\n",
       "      <td>1692</td>\n",
       "      <td>3247</td>\n",
       "      <td>False</td>\n",
       "      <td>Same folks said daikon paste could treat a cyt...</td>\n",
       "      <td>754</td>\n",
       "      <td>23</td>\n",
       "      <td>0</td>\n",
       "      <td>0</td>\n",
       "      <td>False</td>\n",
       "    </tr>\n",
       "    <tr>\n",
       "      <th>1</th>\n",
       "      <td>1338158543359250433</td>\n",
       "      <td>63</td>\n",
       "      <td>647</td>\n",
       "      <td>867</td>\n",
       "      <td>2009-09-21 15:27:30</td>\n",
       "      <td>834</td>\n",
       "      <td>666</td>\n",
       "      <td>178</td>\n",
       "      <td>False</td>\n",
       "      <td>While the world has been on the wrong side of ...</td>\n",
       "      <td>0</td>\n",
       "      <td>22</td>\n",
       "      <td>1</td>\n",
       "      <td>1</td>\n",
       "      <td>False</td>\n",
       "    </tr>\n",
       "  </tbody>\n",
       "</table>\n",
       "</div>"
      ],
      "text/plain": [
       "                    id  user_name  user_location  user_description  \\\n",
       "0  1340539111971516416       1139            386               140   \n",
       "1  1338158543359250433         63            647               867   \n",
       "\n",
       "          user_created  user_followers  user_friends  user_favourites  \\\n",
       "0  2009-04-08 17:52:46             405          1692             3247   \n",
       "1  2009-09-21 15:27:30             834           666              178   \n",
       "\n",
       "   user_verified                                               text  hashtags  \\\n",
       "0          False  Same folks said daikon paste could treat a cyt...       754   \n",
       "1          False  While the world has been on the wrong side of ...         0   \n",
       "\n",
       "   source  retweets  favorites  is_retweet  \n",
       "0      23         0          0       False  \n",
       "1      22         1          1       False  "
      ]
     },
     "execution_count": 21,
     "metadata": {},
     "output_type": "execute_result"
    }
   ],
   "source": [
    "data.head(2)"
   ]
  },
  {
   "cell_type": "code",
   "execution_count": 22,
   "id": "4a9c31d9",
   "metadata": {},
   "outputs": [
    {
     "data": {
      "text/html": [
       "<div>\n",
       "<style scoped>\n",
       "    .dataframe tbody tr th:only-of-type {\n",
       "        vertical-align: middle;\n",
       "    }\n",
       "\n",
       "    .dataframe tbody tr th {\n",
       "        vertical-align: top;\n",
       "    }\n",
       "\n",
       "    .dataframe thead th {\n",
       "        text-align: right;\n",
       "    }\n",
       "</style>\n",
       "<table border=\"1\" class=\"dataframe\">\n",
       "  <thead>\n",
       "    <tr style=\"text-align: right;\">\n",
       "      <th></th>\n",
       "      <th>user_name</th>\n",
       "      <th>user_location</th>\n",
       "      <th>user_description</th>\n",
       "      <th>user_followers</th>\n",
       "      <th>user_friends</th>\n",
       "      <th>user_favourites</th>\n",
       "      <th>user_verified</th>\n",
       "      <th>text</th>\n",
       "      <th>hashtags</th>\n",
       "      <th>source</th>\n",
       "      <th>retweets</th>\n",
       "      <th>favorites</th>\n",
       "    </tr>\n",
       "  </thead>\n",
       "  <tbody>\n",
       "    <tr>\n",
       "      <th>0</th>\n",
       "      <td>1139</td>\n",
       "      <td>386</td>\n",
       "      <td>140</td>\n",
       "      <td>405</td>\n",
       "      <td>1692</td>\n",
       "      <td>3247</td>\n",
       "      <td>0</td>\n",
       "      <td>Same folks said daikon paste could treat a cyt...</td>\n",
       "      <td>754</td>\n",
       "      <td>23</td>\n",
       "      <td>0</td>\n",
       "      <td>0</td>\n",
       "    </tr>\n",
       "  </tbody>\n",
       "</table>\n",
       "</div>"
      ],
      "text/plain": [
       "   user_name  user_location  user_description  user_followers  user_friends  \\\n",
       "0       1139            386               140             405          1692   \n",
       "\n",
       "   user_favourites  user_verified  \\\n",
       "0             3247              0   \n",
       "\n",
       "                                                text  hashtags  source  \\\n",
       "0  Same folks said daikon paste could treat a cyt...       754      23   \n",
       "\n",
       "   retweets  favorites  \n",
       "0         0          0  "
      ]
     },
     "execution_count": 22,
     "metadata": {},
     "output_type": "execute_result"
    }
   ],
   "source": [
    "data.drop('id',axis = 1,inplace=True)\n",
    "data.drop('user_created',axis = 1,inplace=True)\n",
    "\n",
    "data['user_verified'].replace(False,0,inplace=True)\n",
    "data['user_verified'].replace(True,1,inplace=True)\n",
    "data['user_verified'] =data['user_verified'].astype(int)\n",
    "\n",
    "data.drop('is_retweet',axis = 1,inplace=True)\n",
    "data.head(1)"
   ]
  },
  {
   "cell_type": "code",
   "execution_count": 23,
   "id": "225ea8c3",
   "metadata": {},
   "outputs": [
    {
     "data": {
      "text/plain": [
       "<AxesSubplot:xlabel='user_name', ylabel='count'>"
      ]
     },
     "execution_count": 23,
     "metadata": {},
     "output_type": "execute_result"
    },
    {
     "data": {
      "image/png": "[encoded data removed]",
      "text/plain": [
       "<Figure size 432x288 with 1 Axes>"
      ]
     },
     "metadata": {
      "needs_background": "light"
     },
     "output_type": "display_data"
    }
   ],
   "source": [
    "sns.countplot(x='user_name',hue='user_verified',data=data)"
   ]
  },
  {
   "cell_type": "markdown",
   "id": "2b4355dd",
   "metadata": {},
   "source": [
    "- we can see clearly that the number of unverified users is more than verified ones"
   ]
  },
  {
   "cell_type": "code",
   "execution_count": 24,
   "id": "c566e441",
   "metadata": {},
   "outputs": [
    {
     "data": {
      "image/png": "[encoded data removed]",
      "text/plain": [
       "<Figure size 432x288 with 1 Axes>"
      ]
     },
     "metadata": {
      "needs_background": "light"
     },
     "output_type": "display_data"
    }
   ],
   "source": [
    "plt.plot(data[\"user_location\"],color='b')\n",
    "plt.show()"
   ]
  },
  {
   "cell_type": "code",
   "execution_count": 25,
   "id": "f39cc96b",
   "metadata": {},
   "outputs": [
    {
     "data": {
      "text/plain": [
       "[<matplotlib.lines.Line2D at 0x179884e4e80>]"
      ]
     },
     "execution_count": 25,
     "metadata": {},
     "output_type": "execute_result"
    },
    {
     "data": {
      "image/png": "[encoded data removed]",
      "text/plain": [
       "<Figure size 432x288 with 1 Axes>"
      ]
     },
     "metadata": {
      "needs_background": "light"
     },
     "output_type": "display_data"
    }
   ],
   "source": [
    "plt.plot(data['user_followers'],color='g')"
   ]
  },
  {
   "cell_type": "code",
   "execution_count": 26,
   "id": "8e80dd34",
   "metadata": {},
   "outputs": [
    {
     "data": {
      "text/plain": [
       "<AxesSubplot:xlabel='user_location'>"
      ]
     },
     "execution_count": 26,
     "metadata": {},
     "output_type": "execute_result"
    },
    {
     "data": {
      "image/png": "[encoded data removed]",
      "text/plain": [
       "<Figure size 432x288 with 1 Axes>"
      ]
     },
     "metadata": {
      "needs_background": "light"
     },
     "output_type": "display_data"
    }
   ],
   "source": [
    "sns.violinplot(x='user_location',hue='user_verified',data=data)"
   ]
  },
  {
   "cell_type": "code",
   "execution_count": 32,
   "id": "6c659f68",
   "metadata": {},
   "outputs": [
    {
     "data": {
      "text/plain": [
       "['user_name',\n",
       " 'user_location',\n",
       " 'user_description',\n",
       " 'user_followers',\n",
       " 'user_friends',\n",
       " 'user_favourites',\n",
       " 'hashtags',\n",
       " 'source',\n",
       " 'retweets',\n",
       " 'favorites']"
      ]
     },
     "execution_count": 32,
     "metadata": {},
     "output_type": "execute_result"
    }
   ],
   "source": [
    "take = []\n",
    "drop = []\n",
    "for j in data.columns:\n",
    "    if j == 'text' or j == 'user_verified':\n",
    "        take.append(j)\n",
    "    else:\n",
    "        drop.append(j)\n",
    "drop"
   ]
  },
  {
   "cell_type": "code",
   "execution_count": 33,
   "id": "f7dfee9b",
   "metadata": {},
   "outputs": [],
   "source": [
    "data.drop(drop,axis=1,inplace=True)"
   ]
  },
  {
   "cell_type": "code",
   "execution_count": 34,
   "id": "ccdf1709",
   "metadata": {},
   "outputs": [
    {
     "data": {
      "text/html": [
       "<div>\n",
       "<style scoped>\n",
       "    .dataframe tbody tr th:only-of-type {\n",
       "        vertical-align: middle;\n",
       "    }\n",
       "\n",
       "    .dataframe tbody tr th {\n",
       "        vertical-align: top;\n",
       "    }\n",
       "\n",
       "    .dataframe thead th {\n",
       "        text-align: right;\n",
       "    }\n",
       "</style>\n",
       "<table border=\"1\" class=\"dataframe\">\n",
       "  <thead>\n",
       "    <tr style=\"text-align: right;\">\n",
       "      <th></th>\n",
       "      <th>user_verified</th>\n",
       "      <th>text</th>\n",
       "    </tr>\n",
       "  </thead>\n",
       "  <tbody>\n",
       "    <tr>\n",
       "      <th>0</th>\n",
       "      <td>0</td>\n",
       "      <td>Same folks said daikon paste could treat a cyt...</td>\n",
       "    </tr>\n",
       "    <tr>\n",
       "      <th>1</th>\n",
       "      <td>0</td>\n",
       "      <td>While the world has been on the wrong side of ...</td>\n",
       "    </tr>\n",
       "    <tr>\n",
       "      <th>2</th>\n",
       "      <td>0</td>\n",
       "      <td>#coronavirus #SputnikV #AstraZeneca #PfizerBio...</td>\n",
       "    </tr>\n",
       "    <tr>\n",
       "      <th>3</th>\n",
       "      <td>1</td>\n",
       "      <td>Facts are immutable, Senator, even when you're...</td>\n",
       "    </tr>\n",
       "    <tr>\n",
       "      <th>4</th>\n",
       "      <td>0</td>\n",
       "      <td>Explain to me again why we need a vaccine @Bor...</td>\n",
       "    </tr>\n",
       "  </tbody>\n",
       "</table>\n",
       "</div>"
      ],
      "text/plain": [
       "   user_verified                                               text\n",
       "0              0  Same folks said daikon paste could treat a cyt...\n",
       "1              0  While the world has been on the wrong side of ...\n",
       "2              0  #coronavirus #SputnikV #AstraZeneca #PfizerBio...\n",
       "3              1  Facts are immutable, Senator, even when you're...\n",
       "4              0  Explain to me again why we need a vaccine @Bor..."
      ]
     },
     "execution_count": 34,
     "metadata": {},
     "output_type": "execute_result"
    }
   ],
   "source": [
    "data.head()"
   ]
  },
  {
   "cell_type": "markdown",
   "id": "6dc42c13",
   "metadata": {},
   "source": [
    "# Train and test data"
   ]
  },
  {
   "cell_type": "code",
   "execution_count": 39,
   "id": "219cffe7",
   "metadata": {},
   "outputs": [
    {
     "data": {
      "text/plain": [
       "array(['Same folks said daikon paste could treat a cytokine storm #PfizerBioNTech https://t.co/xeHhIMg1kF',\n",
       "       \"While the world has been on the wrong side of history this year, hopefully, the biggest vaccination effort we've ev… https://t.co/dlCHrZjkhm\",\n",
       "       '#coronavirus #SputnikV #AstraZeneca #PfizerBioNTech #Moderna #Covid_19 Russian vaccine is created to last 2-4 years… https://t.co/ieYlCKBr8P',\n",
       "       ...,\n",
       "       '#PfizerBioNTech #COVID19 \"There is always a  light at the end of the tunnel, but the way out is through.” https://t.co/pF3WqGk0n1',\n",
       "       'People in NL tweeting me to say Dutch plan to roll out #AstraZeneca before #PfizerBioNTech because it’s easier to a… https://t.co/Z33psqG4c5',\n",
       "       'On #vaccines, .@realDonaldTrump  did everything right #PfizerBioNTech #PfizerVaccine #modernavaccine #Moderna… https://t.co/hus4f9t00J'],\n",
       "      dtype=object)"
      ]
     },
     "execution_count": 39,
     "metadata": {},
     "output_type": "execute_result"
    }
   ],
   "source": [
    "X= data.iloc[:,1].values\n",
    "X"
   ]
  },
  {
   "cell_type": "code",
   "execution_count": 41,
   "id": "1c79108d",
   "metadata": {},
   "outputs": [
    {
     "data": {
      "text/plain": [
       "array([0, 0, 0, ..., 0, 1, 1])"
      ]
     },
     "execution_count": 41,
     "metadata": {},
     "output_type": "execute_result"
    }
   ],
   "source": [
    "y=data.iloc[:,0].values\n",
    "y"
   ]
  },
  {
   "cell_type": "code",
   "execution_count": 43,
   "id": "e9f3d6a2",
   "metadata": {},
   "outputs": [
    {
     "data": {
      "text/plain": [
       "(2518, 2)"
      ]
     },
     "execution_count": 43,
     "metadata": {},
     "output_type": "execute_result"
    }
   ],
   "source": [
    "data.shape"
   ]
  },
  {
   "cell_type": "code",
   "execution_count": 49,
   "id": "5f48852e",
   "metadata": {},
   "outputs": [],
   "source": [
    "from sklearn.model_selection import train_test_split\n",
    "\n",
    "X_train, X_test, y_train, y_test = train_test_split(X, y, test_size = 0.35)"
   ]
  },
  {
   "cell_type": "code",
   "execution_count": 50,
   "id": "aeb5a6ed",
   "metadata": {},
   "outputs": [
    {
     "data": {
      "text/plain": [
       "((1636,), (882,))"
      ]
     },
     "execution_count": 50,
     "metadata": {},
     "output_type": "execute_result"
    }
   ],
   "source": [
    "(X_train.shape, X_test.shape)"
   ]
  },
  {
   "cell_type": "code",
   "execution_count": 71,
   "id": "2b3c825b",
   "metadata": {},
   "outputs": [],
   "source": [
    "X_train_cleaned= [preprocessing(text) for text in X_train]"
   ]
  },
  {
   "cell_type": "code",
   "execution_count": null,
   "id": "195ef72e",
   "metadata": {},
   "outputs": [],
   "source": [
    "X_test_cleaned= [preprocessing(text) for text in X_test]"
   ]
  },
  {
   "cell_type": "code",
   "execution_count": 54,
   "id": "88951b20",
   "metadata": {},
   "outputs": [],
   "source": [
    "from langdetect import detect\n",
    "languages = [detect(sentence) for sentence in X_test_cleaned]"
   ]
  },
  {
   "cell_type": "code",
   "execution_count": 55,
   "id": "8a6005dd",
   "metadata": {},
   "outputs": [
    {
     "data": {
      "text/plain": [
       "(array(['ca', 'da', 'de', 'en', 'es', 'et', 'fr', 'it', 'nl', 'pt', 'ro',\n",
       "        'sl', 'sv'], dtype='<U2'),\n",
       " array([  9,   1,   5, 704,  20,   1,  12, 102,  14,   1,  11,   1,   1],\n",
       "       dtype=int64))"
      ]
     },
     "execution_count": 55,
     "metadata": {},
     "output_type": "execute_result"
    }
   ],
   "source": [
    "np.unique(languages, return_counts=True)"
   ]
  },
  {
   "cell_type": "markdown",
   "id": "2237b14c",
   "metadata": {},
   "source": [
    "# vaccination classifier with tf-idf"
   ]
  },
  {
   "cell_type": "code",
   "execution_count": 73,
   "id": "cee9241f",
   "metadata": {},
   "outputs": [],
   "source": [
    "from sklearn.feature_extraction.text import TfidfVectorizer\n",
    "vectorizer = TfidfVectorizer()\n",
    "X_train_tfidf = vectorizer.fit_transform(X_train_cleaned)"
   ]
  },
  {
   "cell_type": "code",
   "execution_count": 74,
   "id": "0a6645ec",
   "metadata": {},
   "outputs": [
    {
     "data": {
      "text/plain": [
       "(1636, 4429)"
      ]
     },
     "execution_count": 74,
     "metadata": {},
     "output_type": "execute_result"
    }
   ],
   "source": [
    "X_train_tfidf.shape"
   ]
  },
  {
   "cell_type": "code",
   "execution_count": 68,
   "id": "77298e69",
   "metadata": {},
   "outputs": [
    {
     "data": {
      "text/plain": [
       "(1636, 4481)"
      ]
     },
     "execution_count": 68,
     "metadata": {},
     "output_type": "execute_result"
    }
   ],
   "source": [
    "X_train_tfidf.shape"
   ]
  },
  {
   "cell_type": "code",
   "execution_count": null,
   "id": "93110b74",
   "metadata": {},
   "outputs": [],
   "source": [
    "# vectorizer.get_feature_names()"
   ]
  },
  {
   "cell_type": "code",
   "execution_count": 77,
   "id": "fb7a8040",
   "metadata": {},
   "outputs": [],
   "source": [
    "X_test_tfidf = vectorizer.transform(X_test_cleaned)"
   ]
  },
  {
   "cell_type": "code",
   "execution_count": 76,
   "id": "c7870db6",
   "metadata": {},
   "outputs": [
    {
     "data": {
      "text/plain": [
       "DecisionTreeClassifier()"
      ]
     },
     "execution_count": 76,
     "metadata": {},
     "output_type": "execute_result"
    }
   ],
   "source": [
    "from sklearn.tree import DecisionTreeClassifier\n",
    "classifier= DecisionTreeClassifier()\n",
    "classifier.fit(X_train_tfidf,y_train)"
   ]
  },
  {
   "cell_type": "code",
   "execution_count": 169,
   "id": "b17d2e48",
   "metadata": {},
   "outputs": [],
   "source": [
    "predictions = classifier.predict(X_test_tfidf)"
   ]
  },
  {
   "cell_type": "code",
   "execution_count": 84,
   "id": "ac019b90",
   "metadata": {},
   "outputs": [
    {
     "data": {
      "text/plain": [
       "0.8140589569160998"
      ]
     },
     "execution_count": 84,
     "metadata": {},
     "output_type": "execute_result"
    }
   ],
   "source": [
    "from sklearn.metrics import accuracy_score, classification_report, confusion_matrix\n",
    "accuracy_score(y_test, predictions)"
   ]
  },
  {
   "cell_type": "code",
   "execution_count": 81,
   "id": "d9d4b4ab",
   "metadata": {},
   "outputs": [
    {
     "data": {
      "text/plain": [
       "array([[681,  81],\n",
       "       [ 83,  37]], dtype=int64)"
      ]
     },
     "execution_count": 81,
     "metadata": {},
     "output_type": "execute_result"
    }
   ],
   "source": [
    "cm = confusion_matrix(y_test, predictions)\n",
    "cm"
   ]
  },
  {
   "cell_type": "code",
   "execution_count": 83,
   "id": "bc0f3b8b",
   "metadata": {},
   "outputs": [
    {
     "name": "stdout",
     "output_type": "stream",
     "text": [
      "              precision    recall  f1-score   support\n",
      "\n",
      "           0       0.89      0.89      0.89       762\n",
      "           1       0.31      0.31      0.31       120\n",
      "\n",
      "    accuracy                           0.81       882\n",
      "   macro avg       0.60      0.60      0.60       882\n",
      "weighted avg       0.81      0.81      0.81       882\n",
      "\n"
     ]
    }
   ],
   "source": [
    "print(classification_report(y_test, predictions))"
   ]
  },
  {
   "cell_type": "markdown",
   "id": "006c15c9",
   "metadata": {},
   "source": [
    "# vaccination classifier with text processing of keras"
   ]
  },
  {
   "cell_type": "code",
   "execution_count": 97,
   "id": "852fa3ab",
   "metadata": {},
   "outputs": [
    {
     "data": {
      "text/plain": [
       "<AxesSubplot:xlabel='user_verified', ylabel='count'>"
      ]
     },
     "execution_count": 97,
     "metadata": {},
     "output_type": "execute_result"
    },
    {
     "data": {
      "image/png": "[encoded data removed]",
      "text/plain": [
       "<Figure size 432x288 with 1 Axes>"
      ]
     },
     "metadata": {
      "needs_background": "light"
     },
     "output_type": "display_data"
    }
   ],
   "source": [
    "sns.countplot(x = 'user_verified',data=data)"
   ]
  },
  {
   "cell_type": "code",
   "execution_count": 98,
   "id": "90224a9f",
   "metadata": {},
   "outputs": [],
   "source": [
    "verified_user = []\n",
    "not_verified_user = []\n",
    "for i in data['user_verified']:\n",
    "    if i == 1:\n",
    "        verified_user.append(i)\n",
    "    else:\n",
    "        not_verified_user.append(i)"
   ]
  },
  {
   "cell_type": "code",
   "execution_count": 99,
   "id": "7049b950",
   "metadata": {},
   "outputs": [
    {
     "name": "stdout",
     "output_type": "stream",
     "text": [
      "percentage of verified user =  14.138204924543288\n",
      "percentage of not verified user =  85.86179507545671\n"
     ]
    }
   ],
   "source": [
    "print(\"percentage of verified user = \",((len(verified_user)/len(data['user_verified']))*100))\n",
    "\n",
    "print(\"percentage of not verified user = \",((len(not_verified_user)/len(data['user_verified']))*100))"
   ]
  },
  {
   "cell_type": "code",
   "execution_count": null,
   "id": "1d9e5e66",
   "metadata": {},
   "outputs": [],
   "source": [
    "# pip install keras==2.6 same version as tensorflow"
   ]
  },
  {
   "cell_type": "code",
   "execution_count": 8,
   "id": "8676840b",
   "metadata": {},
   "outputs": [],
   "source": [
    "from tensorflow import keras\n",
    "from keras.preprocessing.text import Tokenizer\n",
    "from keras.preprocessing.sequence import pad_sequences"
   ]
  },
  {
   "cell_type": "code",
   "execution_count": 113,
   "id": "770ef920",
   "metadata": {},
   "outputs": [],
   "source": [
    "tokenizer = Tokenizer(10000,lower=True)\n",
    "tokenizer.fit_on_texts(X)"
   ]
  },
  {
   "cell_type": "markdown",
   "id": "9a143d77",
   "metadata": {},
   "source": [
    "- fit_on_texts : This method creates the vocabulary index based on word frequency. So if you give it something like, \"The cat sat on the mat.\" It will create a dictionary s.t. word_index[\"the\"] = 1; word_index[\"cat\"] = 2\n",
    "\n",
    " so every word gets a unique integer value. 0 is reserved for padding. So lower integer means more frequent word"
   ]
  },
  {
   "cell_type": "code",
   "execution_count": 115,
   "id": "8443edad",
   "metadata": {},
   "outputs": [],
   "source": [
    "sequence = tokenizer.texts_to_sequences(X)\n",
    "final_input = pad_sequences(sequence,maxlen=200,padding='pre')"
   ]
  },
  {
   "cell_type": "markdown",
   "id": "c74befc8",
   "metadata": {},
   "source": [
    "- texts_to_sequences : Transforms each text in texts to a sequence of integers. So it basically takes each word in the text and replaces it with its corresponding integer value from the word_index dictionary."
   ]
  },
  {
   "cell_type": "code",
   "execution_count": 116,
   "id": "912366c8",
   "metadata": {},
   "outputs": [],
   "source": [
    "final_output = np.array(y)"
   ]
  },
  {
   "cell_type": "code",
   "execution_count": 117,
   "id": "53134314",
   "metadata": {},
   "outputs": [],
   "source": [
    "from keras.models import Sequential\n",
    "from keras.layers import Bidirectional,LSTM,Dense,Embedding"
   ]
  },
  {
   "cell_type": "code",
   "execution_count": 118,
   "id": "f2c9066c",
   "metadata": {},
   "outputs": [
    {
     "name": "stdout",
     "output_type": "stream",
     "text": [
      "Model: \"sequential\"\n",
      "_________________________________________________________________\n",
      " Layer (type)                Output Shape              Param #   \n",
      "=================================================================\n",
      " embedding (Embedding)       (None, 200, 120)          1200000   \n",
      "                                                                 \n",
      " bidirectional (Bidirectiona  (None, 200, 128)         94720     \n",
      " l)                                                              \n",
      "                                                                 \n",
      " bidirectional_1 (Bidirectio  (None, 64)               41216     \n",
      " nal)                                                            \n",
      "                                                                 \n",
      " dense (Dense)               (None, 1)                 65        \n",
      "                                                                 \n",
      "=================================================================\n",
      "Total params: 1,336,001\n",
      "Trainable params: 1,336,001\n",
      "Non-trainable params: 0\n",
      "_________________________________________________________________\n"
     ]
    }
   ],
   "source": [
    "model = Sequential()\n",
    "model.add(\n",
    "    Embedding(\n",
    "        input_dim=10000,\n",
    "        output_dim=120,\n",
    "        input_length=200,\n",
    "    ),)\n",
    "model.add(\n",
    "    Bidirectional(LSTM(64, return_sequences=True))\n",
    ")\n",
    "model.add(Bidirectional(LSTM(32)))\n",
    "model.add(Dense(1))\n",
    "\n",
    "model.summary()"
   ]
  },
  {
   "cell_type": "code",
   "execution_count": 119,
   "id": "9018f4db",
   "metadata": {},
   "outputs": [],
   "source": [
    "# We specify the training configuration (loss, optimizer, metrics)\n",
    "model.compile(loss='binary_crossentropy',optimizer='adam',metrics=['accuracy'])"
   ]
  },
  {
   "cell_type": "code",
   "execution_count": 120,
   "id": "f4b9108f",
   "metadata": {},
   "outputs": [
    {
     "name": "stdout",
     "output_type": "stream",
     "text": [
      "Epoch 1/5\n",
      "79/79 [==============================] - 59s 530ms/step - loss: 0.4172 - accuracy: 0.8586\n",
      "Epoch 2/5\n",
      "79/79 [==============================] - 42s 530ms/step - loss: 0.3676 - accuracy: 0.8586\n",
      "Epoch 3/5\n",
      "79/79 [==============================] - 42s 530ms/step - loss: 0.1686 - accuracy: 0.9174\n",
      "Epoch 4/5\n",
      "79/79 [==============================] - 42s 529ms/step - loss: 0.0284 - accuracy: 0.9948\n",
      "Epoch 5/5\n",
      "79/79 [==============================] - 42s 531ms/step - loss: 0.0184 - accuracy: 0.9988\n"
     ]
    }
   ],
   "source": [
    "# We call fit(), which will train the model by slicing the data into \"batches\" of size batch_size,\n",
    "# and repeatedly iterating over the entire dataset for a given number of epochs.\n",
    "pred = model.fit(final_input,final_output,epochs=5,batch_size=32)"
   ]
  },
  {
   "cell_type": "code",
   "execution_count": 123,
   "id": "eaef0c59",
   "metadata": {},
   "outputs": [
    {
     "data": {
      "text/plain": [
       "78.6875"
      ]
     },
     "execution_count": 123,
     "metadata": {},
     "output_type": "execute_result"
    }
   ],
   "source": [
    "batch_size= 32\n",
    "data.shape[0]/batch_size"
   ]
  },
  {
   "cell_type": "code",
   "execution_count": 125,
   "id": "15f6ec88",
   "metadata": {},
   "outputs": [],
   "source": [
    "model.save('vaccine delivery.h5') # creates a HDF5 file 'vaccine delivery.h5'\n",
    "# after that reuse it: model = load_model('vaccine delivery.h5')"
   ]
  },
  {
   "cell_type": "code",
   "execution_count": 121,
   "id": "9e523708",
   "metadata": {},
   "outputs": [
    {
     "data": {
      "image/png": "[encoded data removed]",
      "text/plain": [
       "<Figure size 432x288 with 1 Axes>"
      ]
     },
     "metadata": {
      "needs_background": "light"
     },
     "output_type": "display_data"
    }
   ],
   "source": [
    "plt.plot(pred.history['loss'],label='loss')\n",
    "plt.plot(pred.history['accuracy'],label='accuracy')\n",
    "plt.legend(loc='best')\n",
    "plt.show()"
   ]
  },
  {
   "cell_type": "code",
   "execution_count": 178,
   "id": "873eb1ee",
   "metadata": {},
   "outputs": [
    {
     "data": {
      "text/plain": [
       "148"
      ]
     },
     "execution_count": 178,
     "metadata": {},
     "output_type": "execute_result"
    }
   ],
   "source": [
    "maxlenght = len(X[0])\n",
    "for i in X:\n",
    "    if maxlenght<len(i) : maxlenght= len(i) \n",
    "maxlenght # the longest text in the data."
   ]
  },
  {
   "cell_type": "code",
   "execution_count": 181,
   "id": "9e9840bb",
   "metadata": {},
   "outputs": [],
   "source": [
    "def verification(details):\n",
    "    sentence_list = []\n",
    "    sentence_list.append(details)\n",
    "#     print(sentence_list)\n",
    "    fit = tokenizer.texts_to_sequences(sentence_list)\n",
    "#     print(fit)\n",
    "    sequence = pad_sequences(fit,maxlen=maxlenght,padding='pre')\n",
    "#     print(sequence)\n",
    "    output = model.predict(sequence)\n",
    "#     print(output)\n",
    "    if output[0][0] > 0:\n",
    "        print(\"Verified User\")\n",
    "        return 1\n",
    "    else:\n",
    "        print(\"User is not verified\")\n",
    "        return 0\n"
   ]
  },
  {
   "cell_type": "code",
   "execution_count": 182,
   "id": "40d50e6a",
   "metadata": {},
   "outputs": [
    {
     "name": "stdout",
     "output_type": "stream",
     "text": [
      "['Same folks said daikon paste could treat a cytokine storm #PfizerBioNTech https://t.co/xeHhIMg1kF']\n",
      "[[480, 585, 105, 2694, 2695, 275, 1739, 10, 2696, 1740, 5, 3, 1, 2, 2697]]\n",
      "[[   0    0    0    0    0    0    0    0    0    0    0    0    0    0\n",
      "     0    0    0    0    0    0    0    0    0    0    0    0    0    0\n",
      "     0    0    0    0    0    0    0    0    0    0    0    0    0    0\n",
      "     0    0    0    0    0    0    0    0    0    0    0    0    0    0\n",
      "     0    0    0    0    0    0    0    0    0    0    0    0    0    0\n",
      "     0    0    0    0    0    0    0    0    0    0    0    0    0    0\n",
      "     0    0    0    0    0    0    0    0    0    0    0    0    0    0\n",
      "     0    0    0    0    0    0    0    0    0    0    0    0    0    0\n",
      "     0    0    0    0    0    0    0    0    0    0    0    0    0    0\n",
      "     0    0    0    0    0    0    0  480  585  105 2694 2695  275 1739\n",
      "    10 2696 1740    5    3    1    2 2697]]\n",
      "[[-0.34427217]]\n",
      "User is not verified\n"
     ]
    },
    {
     "data": {
      "text/plain": [
       "0"
      ]
     },
     "execution_count": 182,
     "metadata": {},
     "output_type": "execute_result"
    }
   ],
   "source": [
    "verification(\"Same folks said daikon paste could treat a cytokine storm #PfizerBioNTech https://t.co/xeHhIMg1kF\")"
   ]
  },
  {
   "cell_type": "code",
   "execution_count": 168,
   "id": "0ea4ac01",
   "metadata": {},
   "outputs": [
    {
     "name": "stdout",
     "output_type": "stream",
     "text": [
      "User is not verified\n"
     ]
    },
    {
     "data": {
      "text/plain": [
       "0"
      ]
     },
     "execution_count": 168,
     "metadata": {},
     "output_type": "execute_result"
    }
   ],
   "source": [
    "verification(\"Same folks said daikon paste could treat a cytokine storm #PfizerBioNTech https://t.co/xeHhIMg1kF\")"
   ]
  },
  {
   "cell_type": "code",
   "execution_count": 159,
   "id": "6eed1822",
   "metadata": {},
   "outputs": [
    {
     "data": {
      "text/plain": [
       "array([0, 0, 0, 1, 0, 0, 0, 1, 0, 0])"
      ]
     },
     "execution_count": 159,
     "metadata": {},
     "output_type": "execute_result"
    }
   ],
   "source": [
    "y[:10]"
   ]
  },
  {
   "cell_type": "code",
   "execution_count": 166,
   "id": "2e41ef06",
   "metadata": {},
   "outputs": [
    {
     "data": {
      "text/plain": [
       "[0, 0, 0, 1, 0, 0, 0, 1, 0, 0]"
      ]
     },
     "execution_count": 166,
     "metadata": {},
     "output_type": "execute_result"
    }
   ],
   "source": [
    "y_pred=[verification(text) for text in data[\"text\"][:10].values]\n",
    "y_pred"
   ]
  },
  {
   "cell_type": "markdown",
   "id": "6909b920",
   "metadata": {},
   "source": [
    "* For the first ten examples we see clearly that the model predicts them 100% correct."
   ]
  },
  {
   "cell_type": "code",
   "execution_count": null,
   "id": "7dfd2c59",
   "metadata": {},
   "outputs": [],
   "source": []
  },
  {
   "cell_type": "markdown",
   "id": "57a35a2b",
   "metadata": {},
   "source": [
    "## footer section for diffrent methods training"
   ]
  },
  {
   "cell_type": "markdown",
   "id": "7bad7175",
   "metadata": {},
   "source": [
    "##### understanding some concept about tokenizer with keras"
   ]
  },
  {
   "cell_type": "markdown",
   "id": "ada6aa92",
   "metadata": {},
   "source": [
    "- fit_on_texts : This method creates the vocabulary index based on word frequency. So if you give it something like, \"The cat sat on the mat.\" It will create a dictionary s.t. word_index[\"the\"] = 1; word_index[\"cat\"] = 2\n",
    "\n",
    " so every word gets a unique integer value. 0 is reserved for padding. So lower integer means more frequent word"
   ]
  },
  {
   "cell_type": "code",
   "execution_count": 25,
   "id": "b37830db",
   "metadata": {},
   "outputs": [],
   "source": [
    "tokenizer = Tokenizer(10000,lower=True)\n",
    "tokenizer.fit_on_texts([\"Same\", \"cbat\", \"goes\", \"the\", \"same\", \"way\", \"twice\"])"
   ]
  },
  {
   "cell_type": "code",
   "execution_count": 28,
   "id": "d05f2c83",
   "metadata": {},
   "outputs": [
    {
     "data": {
      "text/plain": [
       "{'same': 1, 'cat': 2, 'goes': 3, 'the': 4, 'way': 5, 'twice': 6}"
      ]
     },
     "execution_count": 28,
     "metadata": {},
     "output_type": "execute_result"
    }
   ],
   "source": [
    "word_index = tokenizer.word_index\n",
    "word_index"
   ]
  },
  {
   "cell_type": "code",
   "execution_count": 29,
   "id": "1d432964",
   "metadata": {},
   "outputs": [
    {
     "data": {
      "text/plain": [
       "[[1]]"
      ]
     },
     "execution_count": 29,
     "metadata": {},
     "output_type": "execute_result"
    }
   ],
   "source": [
    "fit= tokenizer.texts_to_sequences([\"Same\"])\n",
    "fit"
   ]
  },
  {
   "cell_type": "markdown",
   "id": "d336e87e",
   "metadata": {},
   "source": [
    "##### play around with data frames"
   ]
  },
  {
   "cell_type": "code",
   "execution_count": 8,
   "id": "92a70c49",
   "metadata": {},
   "outputs": [
    {
     "data": {
      "text/html": [
       "<div>\n",
       "<style scoped>\n",
       "    .dataframe tbody tr th:only-of-type {\n",
       "        vertical-align: middle;\n",
       "    }\n",
       "\n",
       "    .dataframe tbody tr th {\n",
       "        vertical-align: top;\n",
       "    }\n",
       "\n",
       "    .dataframe thead th {\n",
       "        text-align: right;\n",
       "    }\n",
       "</style>\n",
       "<table border=\"1\" class=\"dataframe\">\n",
       "  <thead>\n",
       "    <tr style=\"text-align: right;\">\n",
       "      <th></th>\n",
       "      <th>max_speed</th>\n",
       "      <th>shield</th>\n",
       "    </tr>\n",
       "  </thead>\n",
       "  <tbody>\n",
       "    <tr>\n",
       "      <th>cobra</th>\n",
       "      <td>1</td>\n",
       "      <td>2</td>\n",
       "    </tr>\n",
       "    <tr>\n",
       "      <th>viper</th>\n",
       "      <td>4</td>\n",
       "      <td>a_string</td>\n",
       "    </tr>\n",
       "  </tbody>\n",
       "</table>\n",
       "</div>"
      ],
      "text/plain": [
       "       max_speed    shield\n",
       "cobra          1         2\n",
       "viper          4  a_string"
      ]
     },
     "execution_count": 8,
     "metadata": {},
     "output_type": "execute_result"
    }
   ],
   "source": [
    "#an example out of the model.\n",
    "df = pd.DataFrame([[1,'2'], [4, \"a_string\"]],\n",
    "     index=['cobra', 'viper'],\n",
    "     columns=['max_speed', 'shield'])\n",
    "df"
   ]
  },
  {
   "cell_type": "code",
   "execution_count": 9,
   "id": "d1d09d25",
   "metadata": {},
   "outputs": [
    {
     "data": {
      "text/html": [
       "<div>\n",
       "<style scoped>\n",
       "    .dataframe tbody tr th:only-of-type {\n",
       "        vertical-align: middle;\n",
       "    }\n",
       "\n",
       "    .dataframe tbody tr th {\n",
       "        vertical-align: top;\n",
       "    }\n",
       "\n",
       "    .dataframe thead th {\n",
       "        text-align: right;\n",
       "    }\n",
       "</style>\n",
       "<table border=\"1\" class=\"dataframe\">\n",
       "  <thead>\n",
       "    <tr style=\"text-align: right;\">\n",
       "      <th></th>\n",
       "      <th>max_speed</th>\n",
       "      <th>shield</th>\n",
       "    </tr>\n",
       "  </thead>\n",
       "  <tbody>\n",
       "    <tr>\n",
       "      <th>cobra</th>\n",
       "      <td>1</td>\n",
       "      <td>2</td>\n",
       "    </tr>\n",
       "  </tbody>\n",
       "</table>\n",
       "</div>"
      ],
      "text/plain": [
       "       max_speed shield\n",
       "cobra          1      2"
      ]
     },
     "execution_count": 9,
     "metadata": {},
     "output_type": "execute_result"
    }
   ],
   "source": [
    "df[df[\"max_speed\"]<3]"
   ]
  },
  {
   "cell_type": "code",
   "execution_count": 10,
   "id": "9f9f8acf",
   "metadata": {},
   "outputs": [
    {
     "data": {
      "text/plain": [
       "cobra     True\n",
       "viper    False\n",
       "Name: shield, dtype: bool"
      ]
     },
     "execution_count": 10,
     "metadata": {},
     "output_type": "execute_result"
    }
   ],
   "source": [
    "df[\"shield\"].str.isdecimal()"
   ]
  },
  {
   "cell_type": "markdown",
   "id": "7764665b",
   "metadata": {},
   "source": [
    "- trying LabelEncoder methode"
   ]
  },
  {
   "cell_type": "code",
   "execution_count": 62,
   "id": "3dd2aec2",
   "metadata": {},
   "outputs": [
    {
     "data": {
      "text/plain": [
       "array([0, 1, 2, 1], dtype=int64)"
      ]
     },
     "execution_count": 62,
     "metadata": {},
     "output_type": "execute_result"
    }
   ],
   "source": [
    "from sklearn.preprocessing import LabelEncoder\n",
    "LabelEncoder().fit_transform(['amsterdam', 'paris', 'tokyo','paris'])"
   ]
  },
  {
   "cell_type": "code",
   "execution_count": 65,
   "id": "ad208c8c",
   "metadata": {},
   "outputs": [
    {
     "data": {
      "text/plain": [
       "array([0, 1, 2])"
      ]
     },
     "execution_count": 65,
     "metadata": {},
     "output_type": "execute_result"
    }
   ],
   "source": [
    "from sklearn.preprocessing import LabelEncoder\n",
    "lf = LabelEncoder().fit(['amsterdam', 'paris', 'tokyo','paris'])\n",
    "lf.transform(list(lf.classes_))"
   ]
  },
  {
   "cell_type": "markdown",
   "id": "b3a1f5ef",
   "metadata": {},
   "source": [
    "- did't give us the same thing though"
   ]
  },
  {
   "cell_type": "code",
   "execution_count": 7,
   "id": "37b2904a",
   "metadata": {},
   "outputs": [
    {
     "data": {
      "text/plain": [
       "404"
      ]
     },
     "execution_count": 7,
     "metadata": {},
     "output_type": "execute_result"
    }
   ],
   "source": [
    "83+111+109+101"
   ]
  },
  {
   "cell_type": "code",
   "execution_count": null,
   "id": "5890c133",
   "metadata": {},
   "outputs": [],
   "source": []
  }
 ],
 "metadata": {
  "kernelspec": {
   "display_name": "Python 3 (ipykernel)",
   "language": "python",
   "name": "python3"
  },
  "language_info": {
   "codemirror_mode": {
    "name": "ipython",
    "version": 3
   },
   "file_extension": ".py",
   "mimetype": "text/x-python",
   "name": "python",
   "nbconvert_exporter": "python",
   "pygments_lexer": "ipython3",
   "version": "3.9.7"
  }
 },
 "nbformat": 4,
 "nbformat_minor": 5
}
